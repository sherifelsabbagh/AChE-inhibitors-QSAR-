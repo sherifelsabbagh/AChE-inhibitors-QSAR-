{
 "cells": [
  {
   "cell_type": "markdown",
   "id": "179b0b1e-2b6c-4873-8918-3d5bf5999dec",
   "metadata": {},
   "source": [
    "This tutorial is an implementation of the paper published in 2016 by Saw Simeon et al \" https://peerj.com/articles/2322/ \".\n",
    "\n",
    "A ML QSAR model will be built for AChE enzyme with the aim of finding new drugs that could inhibit AChE and alleviate AD. \n",
    "\n",
    "Dataset for known AChE inhibitors will be collected from ChEMBL database. This will be followed by exploratory data analysis to preprocess the data before generating molecular descriptors. In the paper, 12 different fingerprints were generated using PaDeL software. Here, only 3 types of FP will be implemented in addition to those who could describe Ro5 (Molwt, HbD, HbA, LogP). Feature selection will be performed for each FP using RFE and multicolinearity removal. RandomForest Classifier will be used for building the model.\n",
    "\n",
    "\n",
    "\n",
    "\n",
    "\n"
   ]
  },
  {
   "cell_type": "code",
   "execution_count": 22,
   "id": "e9f2f64c-68c0-40b7-9f62-c3fa40a9ca12",
   "metadata": {},
   "outputs": [],
   "source": [
    "import pandas as pd\n",
    "import matplotlib.pyplot as plt\n",
    "import seaborn as sns"
   ]
  },
  {
   "cell_type": "markdown",
   "id": "0d5555ab-a78f-45ab-8fff-31c60ffef14b",
   "metadata": {},
   "source": [
    "### A- Data Acquisition "
   ]
  },
  {
   "cell_type": "markdown",
   "id": "3a5ac190-86e8-46e1-8779-46a3542b866b",
   "metadata": {},
   "source": [
    "Dataset comprising 15540 activities was downloaded from ChEMBL database. "
   ]
  },
  {
   "cell_type": "code",
   "execution_count": 63,
   "id": "42d1363b-ae2f-4d55-98f7-dbef83d6e890",
   "metadata": {},
   "outputs": [],
   "source": [
    "df = pd.read_csv(\"ache_activity.csv\",sep=\";\")"
   ]
  },
  {
   "cell_type": "code",
   "execution_count": 64,
   "id": "9d16a92f-16b1-4f9e-af01-f63808652921",
   "metadata": {},
   "outputs": [
    {
     "data": {
      "text/html": [
       "<div>\n",
       "<style scoped>\n",
       "    .dataframe tbody tr th:only-of-type {\n",
       "        vertical-align: middle;\n",
       "    }\n",
       "\n",
       "    .dataframe tbody tr th {\n",
       "        vertical-align: top;\n",
       "    }\n",
       "\n",
       "    .dataframe thead th {\n",
       "        text-align: right;\n",
       "    }\n",
       "</style>\n",
       "<table border=\"1\" class=\"dataframe\">\n",
       "  <thead>\n",
       "    <tr style=\"text-align: right;\">\n",
       "      <th></th>\n",
       "      <th>Molecule ChEMBL ID</th>\n",
       "      <th>Molecule Name</th>\n",
       "      <th>Molecule Max Phase</th>\n",
       "      <th>Molecular Weight</th>\n",
       "      <th>#RO5 Violations</th>\n",
       "      <th>AlogP</th>\n",
       "      <th>Compound Key</th>\n",
       "      <th>Smiles</th>\n",
       "      <th>Standard Type</th>\n",
       "      <th>Standard Relation</th>\n",
       "      <th>...</th>\n",
       "      <th>Target Name</th>\n",
       "      <th>Target Organism</th>\n",
       "      <th>Target Type</th>\n",
       "      <th>Document ChEMBL ID</th>\n",
       "      <th>Source ID</th>\n",
       "      <th>Source Description</th>\n",
       "      <th>Document Journal</th>\n",
       "      <th>Document Year</th>\n",
       "      <th>Cell ChEMBL ID</th>\n",
       "      <th>Properties</th>\n",
       "    </tr>\n",
       "  </thead>\n",
       "  <tbody>\n",
       "    <tr>\n",
       "      <th>0</th>\n",
       "      <td>CHEMBL562</td>\n",
       "      <td>GRISEOFULVIN</td>\n",
       "      <td>4</td>\n",
       "      <td>352.77</td>\n",
       "      <td>0</td>\n",
       "      <td>2.81</td>\n",
       "      <td>GRISEOFULVIN</td>\n",
       "      <td>COC1=CC(=O)C[C@@H](C)[C@]12Oc1c(Cl)c(OC)cc(OC)...</td>\n",
       "      <td>Ki</td>\n",
       "      <td>NaN</td>\n",
       "      <td>...</td>\n",
       "      <td>Acetylcholinesterase</td>\n",
       "      <td>Homo sapiens</td>\n",
       "      <td>SINGLE PROTEIN</td>\n",
       "      <td>CHEMBL1909046</td>\n",
       "      <td>15</td>\n",
       "      <td>DrugMatrix</td>\n",
       "      <td>NaN</td>\n",
       "      <td>NaN</td>\n",
       "      <td>CHEMBL3307715</td>\n",
       "      <td>NaN</td>\n",
       "    </tr>\n",
       "    <tr>\n",
       "      <th>1</th>\n",
       "      <td>CHEMBL452</td>\n",
       "      <td>CLONAZEPAM</td>\n",
       "      <td>4</td>\n",
       "      <td>315.72</td>\n",
       "      <td>0</td>\n",
       "      <td>3.04</td>\n",
       "      <td>CLONAZEPAM</td>\n",
       "      <td>O=C1CN=C(c2ccccc2Cl)c2cc([N+](=O)[O-])ccc2N1</td>\n",
       "      <td>IC50</td>\n",
       "      <td>NaN</td>\n",
       "      <td>...</td>\n",
       "      <td>Acetylcholinesterase</td>\n",
       "      <td>Homo sapiens</td>\n",
       "      <td>SINGLE PROTEIN</td>\n",
       "      <td>CHEMBL1909046</td>\n",
       "      <td>15</td>\n",
       "      <td>DrugMatrix</td>\n",
       "      <td>NaN</td>\n",
       "      <td>NaN</td>\n",
       "      <td>CHEMBL3307715</td>\n",
       "      <td>NaN</td>\n",
       "    </tr>\n",
       "    <tr>\n",
       "      <th>2</th>\n",
       "      <td>CHEMBL13209</td>\n",
       "      <td>NITRAZEPAM</td>\n",
       "      <td>4</td>\n",
       "      <td>281.27</td>\n",
       "      <td>0</td>\n",
       "      <td>2.38</td>\n",
       "      <td>NITRAZEPAM</td>\n",
       "      <td>O=C1CN=C(c2ccccc2)c2cc([N+](=O)[O-])ccc2N1</td>\n",
       "      <td>IC50</td>\n",
       "      <td>NaN</td>\n",
       "      <td>...</td>\n",
       "      <td>Acetylcholinesterase</td>\n",
       "      <td>Homo sapiens</td>\n",
       "      <td>SINGLE PROTEIN</td>\n",
       "      <td>CHEMBL1909046</td>\n",
       "      <td>15</td>\n",
       "      <td>DrugMatrix</td>\n",
       "      <td>NaN</td>\n",
       "      <td>NaN</td>\n",
       "      <td>CHEMBL3307715</td>\n",
       "      <td>NaN</td>\n",
       "    </tr>\n",
       "    <tr>\n",
       "      <th>3</th>\n",
       "      <td>CHEMBL13209</td>\n",
       "      <td>NITRAZEPAM</td>\n",
       "      <td>4</td>\n",
       "      <td>281.27</td>\n",
       "      <td>0</td>\n",
       "      <td>2.38</td>\n",
       "      <td>NITRAZEPAM</td>\n",
       "      <td>O=C1CN=C(c2ccccc2)c2cc([N+](=O)[O-])ccc2N1</td>\n",
       "      <td>Ki</td>\n",
       "      <td>NaN</td>\n",
       "      <td>...</td>\n",
       "      <td>Acetylcholinesterase</td>\n",
       "      <td>Homo sapiens</td>\n",
       "      <td>SINGLE PROTEIN</td>\n",
       "      <td>CHEMBL1909046</td>\n",
       "      <td>15</td>\n",
       "      <td>DrugMatrix</td>\n",
       "      <td>NaN</td>\n",
       "      <td>NaN</td>\n",
       "      <td>CHEMBL3307715</td>\n",
       "      <td>NaN</td>\n",
       "    </tr>\n",
       "    <tr>\n",
       "      <th>4</th>\n",
       "      <td>CHEMBL1055</td>\n",
       "      <td>CHLORTHALIDONE</td>\n",
       "      <td>4</td>\n",
       "      <td>338.77</td>\n",
       "      <td>0</td>\n",
       "      <td>0.92</td>\n",
       "      <td>CHLORTHALIDONE</td>\n",
       "      <td>NS(=O)(=O)c1cc(C2(O)NC(=O)c3ccccc32)ccc1Cl</td>\n",
       "      <td>Ki</td>\n",
       "      <td>NaN</td>\n",
       "      <td>...</td>\n",
       "      <td>Acetylcholinesterase</td>\n",
       "      <td>Homo sapiens</td>\n",
       "      <td>SINGLE PROTEIN</td>\n",
       "      <td>CHEMBL1909046</td>\n",
       "      <td>15</td>\n",
       "      <td>DrugMatrix</td>\n",
       "      <td>NaN</td>\n",
       "      <td>NaN</td>\n",
       "      <td>CHEMBL3307715</td>\n",
       "      <td>NaN</td>\n",
       "    </tr>\n",
       "  </tbody>\n",
       "</table>\n",
       "<p>5 rows × 45 columns</p>\n",
       "</div>"
      ],
      "text/plain": [
       "  Molecule ChEMBL ID   Molecule Name  Molecule Max Phase Molecular Weight  \\\n",
       "0          CHEMBL562    GRISEOFULVIN                   4           352.77   \n",
       "1          CHEMBL452      CLONAZEPAM                   4           315.72   \n",
       "2        CHEMBL13209      NITRAZEPAM                   4           281.27   \n",
       "3        CHEMBL13209      NITRAZEPAM                   4           281.27   \n",
       "4         CHEMBL1055  CHLORTHALIDONE                   4           338.77   \n",
       "\n",
       "  #RO5 Violations AlogP    Compound Key  \\\n",
       "0               0  2.81    GRISEOFULVIN   \n",
       "1               0  3.04      CLONAZEPAM   \n",
       "2               0  2.38      NITRAZEPAM   \n",
       "3               0  2.38      NITRAZEPAM   \n",
       "4               0  0.92  CHLORTHALIDONE   \n",
       "\n",
       "                                              Smiles Standard Type  \\\n",
       "0  COC1=CC(=O)C[C@@H](C)[C@]12Oc1c(Cl)c(OC)cc(OC)...            Ki   \n",
       "1       O=C1CN=C(c2ccccc2Cl)c2cc([N+](=O)[O-])ccc2N1          IC50   \n",
       "2         O=C1CN=C(c2ccccc2)c2cc([N+](=O)[O-])ccc2N1          IC50   \n",
       "3         O=C1CN=C(c2ccccc2)c2cc([N+](=O)[O-])ccc2N1            Ki   \n",
       "4         NS(=O)(=O)c1cc(C2(O)NC(=O)c3ccccc32)ccc1Cl            Ki   \n",
       "\n",
       "  Standard Relation  ...           Target Name Target Organism  \\\n",
       "0               NaN  ...  Acetylcholinesterase    Homo sapiens   \n",
       "1               NaN  ...  Acetylcholinesterase    Homo sapiens   \n",
       "2               NaN  ...  Acetylcholinesterase    Homo sapiens   \n",
       "3               NaN  ...  Acetylcholinesterase    Homo sapiens   \n",
       "4               NaN  ...  Acetylcholinesterase    Homo sapiens   \n",
       "\n",
       "      Target Type Document ChEMBL ID Source ID Source Description  \\\n",
       "0  SINGLE PROTEIN      CHEMBL1909046        15         DrugMatrix   \n",
       "1  SINGLE PROTEIN      CHEMBL1909046        15         DrugMatrix   \n",
       "2  SINGLE PROTEIN      CHEMBL1909046        15         DrugMatrix   \n",
       "3  SINGLE PROTEIN      CHEMBL1909046        15         DrugMatrix   \n",
       "4  SINGLE PROTEIN      CHEMBL1909046        15         DrugMatrix   \n",
       "\n",
       "   Document Journal Document Year Cell ChEMBL ID Properties  \n",
       "0               NaN           NaN  CHEMBL3307715        NaN  \n",
       "1               NaN           NaN  CHEMBL3307715        NaN  \n",
       "2               NaN           NaN  CHEMBL3307715        NaN  \n",
       "3               NaN           NaN  CHEMBL3307715        NaN  \n",
       "4               NaN           NaN  CHEMBL3307715        NaN  \n",
       "\n",
       "[5 rows x 45 columns]"
      ]
     },
     "execution_count": 64,
     "metadata": {},
     "output_type": "execute_result"
    }
   ],
   "source": [
    "df.head()"
   ]
  },
  {
   "cell_type": "code",
   "execution_count": 65,
   "id": "707fb70f-8a4a-4e69-8b4c-5a77faec9f67",
   "metadata": {},
   "outputs": [
    {
     "data": {
      "text/plain": [
       "Index(['Molecule ChEMBL ID', 'Molecule Name', 'Molecule Max Phase',\n",
       "       'Molecular Weight', '#RO5 Violations', 'AlogP', 'Compound Key',\n",
       "       'Smiles', 'Standard Type', 'Standard Relation', 'Standard Value',\n",
       "       'Standard Units', 'pChEMBL Value', 'Data Validity Comment', 'Comment',\n",
       "       'Uo Units', 'Ligand Efficiency BEI', 'Ligand Efficiency LE',\n",
       "       'Ligand Efficiency LLE', 'Ligand Efficiency SEI', 'Potential Duplicate',\n",
       "       'Assay ChEMBL ID', 'Assay Description', 'Assay Type', 'BAO Format ID',\n",
       "       'BAO Label', 'Assay Organism', 'Assay Tissue ChEMBL ID',\n",
       "       'Assay Tissue Name', 'Assay Cell Type', 'Assay Subcellular Fraction',\n",
       "       'Assay Parameters', 'Assay Variant Accession', 'Assay Variant Mutation',\n",
       "       'Target ChEMBL ID', 'Target Name', 'Target Organism', 'Target Type',\n",
       "       'Document ChEMBL ID', 'Source ID', 'Source Description',\n",
       "       'Document Journal', 'Document Year', 'Cell ChEMBL ID', 'Properties'],\n",
       "      dtype='object')"
      ]
     },
     "execution_count": 65,
     "metadata": {},
     "output_type": "execute_result"
    }
   ],
   "source": [
    "df.columns"
   ]
  },
  {
   "cell_type": "code",
   "execution_count": 66,
   "id": "d7e754d0-6f65-4e9c-b2c1-a7ece5b30d4c",
   "metadata": {},
   "outputs": [],
   "source": [
    "df = df[[\"Molecule ChEMBL ID\",'Smiles','Standard Type', 'Standard Relation', 'Standard Value',\n",
    "       'Standard Units' ]]"
   ]
  },
  {
   "cell_type": "code",
   "execution_count": 67,
   "id": "9dfa36d6-6cde-4126-a0a2-7504f5660a0d",
   "metadata": {},
   "outputs": [
    {
     "data": {
      "text/html": [
       "<div>\n",
       "<style scoped>\n",
       "    .dataframe tbody tr th:only-of-type {\n",
       "        vertical-align: middle;\n",
       "    }\n",
       "\n",
       "    .dataframe tbody tr th {\n",
       "        vertical-align: top;\n",
       "    }\n",
       "\n",
       "    .dataframe thead th {\n",
       "        text-align: right;\n",
       "    }\n",
       "</style>\n",
       "<table border=\"1\" class=\"dataframe\">\n",
       "  <thead>\n",
       "    <tr style=\"text-align: right;\">\n",
       "      <th></th>\n",
       "      <th>Molecule ChEMBL ID</th>\n",
       "      <th>Smiles</th>\n",
       "      <th>Standard Type</th>\n",
       "      <th>Standard Relation</th>\n",
       "      <th>Standard Value</th>\n",
       "      <th>Standard Units</th>\n",
       "    </tr>\n",
       "  </thead>\n",
       "  <tbody>\n",
       "    <tr>\n",
       "      <th>0</th>\n",
       "      <td>CHEMBL562</td>\n",
       "      <td>COC1=CC(=O)C[C@@H](C)[C@]12Oc1c(Cl)c(OC)cc(OC)...</td>\n",
       "      <td>Ki</td>\n",
       "      <td>NaN</td>\n",
       "      <td>NaN</td>\n",
       "      <td>NaN</td>\n",
       "    </tr>\n",
       "    <tr>\n",
       "      <th>1</th>\n",
       "      <td>CHEMBL452</td>\n",
       "      <td>O=C1CN=C(c2ccccc2Cl)c2cc([N+](=O)[O-])ccc2N1</td>\n",
       "      <td>IC50</td>\n",
       "      <td>NaN</td>\n",
       "      <td>NaN</td>\n",
       "      <td>NaN</td>\n",
       "    </tr>\n",
       "    <tr>\n",
       "      <th>2</th>\n",
       "      <td>CHEMBL13209</td>\n",
       "      <td>O=C1CN=C(c2ccccc2)c2cc([N+](=O)[O-])ccc2N1</td>\n",
       "      <td>IC50</td>\n",
       "      <td>NaN</td>\n",
       "      <td>NaN</td>\n",
       "      <td>NaN</td>\n",
       "    </tr>\n",
       "    <tr>\n",
       "      <th>3</th>\n",
       "      <td>CHEMBL13209</td>\n",
       "      <td>O=C1CN=C(c2ccccc2)c2cc([N+](=O)[O-])ccc2N1</td>\n",
       "      <td>Ki</td>\n",
       "      <td>NaN</td>\n",
       "      <td>NaN</td>\n",
       "      <td>NaN</td>\n",
       "    </tr>\n",
       "    <tr>\n",
       "      <th>4</th>\n",
       "      <td>CHEMBL1055</td>\n",
       "      <td>NS(=O)(=O)c1cc(C2(O)NC(=O)c3ccccc32)ccc1Cl</td>\n",
       "      <td>Ki</td>\n",
       "      <td>NaN</td>\n",
       "      <td>NaN</td>\n",
       "      <td>NaN</td>\n",
       "    </tr>\n",
       "  </tbody>\n",
       "</table>\n",
       "</div>"
      ],
      "text/plain": [
       "  Molecule ChEMBL ID                                             Smiles  \\\n",
       "0          CHEMBL562  COC1=CC(=O)C[C@@H](C)[C@]12Oc1c(Cl)c(OC)cc(OC)...   \n",
       "1          CHEMBL452       O=C1CN=C(c2ccccc2Cl)c2cc([N+](=O)[O-])ccc2N1   \n",
       "2        CHEMBL13209         O=C1CN=C(c2ccccc2)c2cc([N+](=O)[O-])ccc2N1   \n",
       "3        CHEMBL13209         O=C1CN=C(c2ccccc2)c2cc([N+](=O)[O-])ccc2N1   \n",
       "4         CHEMBL1055         NS(=O)(=O)c1cc(C2(O)NC(=O)c3ccccc32)ccc1Cl   \n",
       "\n",
       "  Standard Type Standard Relation  Standard Value Standard Units  \n",
       "0            Ki               NaN             NaN            NaN  \n",
       "1          IC50               NaN             NaN            NaN  \n",
       "2          IC50               NaN             NaN            NaN  \n",
       "3            Ki               NaN             NaN            NaN  \n",
       "4            Ki               NaN             NaN            NaN  "
      ]
     },
     "execution_count": 67,
     "metadata": {},
     "output_type": "execute_result"
    }
   ],
   "source": [
    "df.head()"
   ]
  },
  {
   "cell_type": "markdown",
   "id": "e891fb1a-cc93-40b9-b0d7-159ee267561d",
   "metadata": {},
   "source": [
    "+ Checking Standard Type column. "
   ]
  },
  {
   "cell_type": "code",
   "execution_count": 68,
   "id": "5840a6c3-83e6-41e0-99ac-b8c76a41b0d4",
   "metadata": {},
   "outputs": [
    {
     "data": {
      "text/plain": [
       "<AxesSubplot:xlabel='count', ylabel='Standard Type'>"
      ]
     },
     "execution_count": 68,
     "metadata": {},
     "output_type": "execute_result"
    },
    {
     "data": {
      "image/png": "[encoded data removed]",
      "text/plain": [
       "<Figure size 360x1080 with 1 Axes>"
      ]
     },
     "metadata": {
      "needs_background": "light"
     },
     "output_type": "display_data"
    }
   ],
   "source": [
    "plt.figure(figsize=(5,15))\n",
    "sns.countplot(y=df[\"Standard Type\"])"
   ]
  },
  {
   "cell_type": "markdown",
   "id": "616f9a03-a049-4433-aa33-199839156ce9",
   "metadata": {},
   "source": [
    "+ IC50 is the most frequent activity data present so it will be used for further analysis."
   ]
  },
  {
   "cell_type": "code",
   "execution_count": 69,
   "id": "07d59af6-77d3-4de9-bc39-a4cc17c8e118",
   "metadata": {},
   "outputs": [],
   "source": [
    "df = df[df[\"Standard Type\"] == \"IC50\"]"
   ]
  },
  {
   "cell_type": "code",
   "execution_count": 70,
   "id": "68674c22-4953-4e0e-b0c0-ddb457202512",
   "metadata": {},
   "outputs": [
    {
     "data": {
      "text/html": [
       "<div>\n",
       "<style scoped>\n",
       "    .dataframe tbody tr th:only-of-type {\n",
       "        vertical-align: middle;\n",
       "    }\n",
       "\n",
       "    .dataframe tbody tr th {\n",
       "        vertical-align: top;\n",
       "    }\n",
       "\n",
       "    .dataframe thead th {\n",
       "        text-align: right;\n",
       "    }\n",
       "</style>\n",
       "<table border=\"1\" class=\"dataframe\">\n",
       "  <thead>\n",
       "    <tr style=\"text-align: right;\">\n",
       "      <th></th>\n",
       "      <th>Molecule ChEMBL ID</th>\n",
       "      <th>Smiles</th>\n",
       "      <th>Standard Type</th>\n",
       "      <th>Standard Relation</th>\n",
       "      <th>Standard Value</th>\n",
       "      <th>Standard Units</th>\n",
       "    </tr>\n",
       "  </thead>\n",
       "  <tbody>\n",
       "    <tr>\n",
       "      <th>1</th>\n",
       "      <td>CHEMBL452</td>\n",
       "      <td>O=C1CN=C(c2ccccc2Cl)c2cc([N+](=O)[O-])ccc2N1</td>\n",
       "      <td>IC50</td>\n",
       "      <td>NaN</td>\n",
       "      <td>NaN</td>\n",
       "      <td>NaN</td>\n",
       "    </tr>\n",
       "    <tr>\n",
       "      <th>2</th>\n",
       "      <td>CHEMBL13209</td>\n",
       "      <td>O=C1CN=C(c2ccccc2)c2cc([N+](=O)[O-])ccc2N1</td>\n",
       "      <td>IC50</td>\n",
       "      <td>NaN</td>\n",
       "      <td>NaN</td>\n",
       "      <td>NaN</td>\n",
       "    </tr>\n",
       "    <tr>\n",
       "      <th>5</th>\n",
       "      <td>CHEMBL1140</td>\n",
       "      <td>NC(=O)c1cccnc1</td>\n",
       "      <td>IC50</td>\n",
       "      <td>NaN</td>\n",
       "      <td>NaN</td>\n",
       "      <td>NaN</td>\n",
       "    </tr>\n",
       "    <tr>\n",
       "      <th>12</th>\n",
       "      <td>CHEMBL1909054</td>\n",
       "      <td>NaN</td>\n",
       "      <td>IC50</td>\n",
       "      <td>NaN</td>\n",
       "      <td>NaN</td>\n",
       "      <td>NaN</td>\n",
       "    </tr>\n",
       "    <tr>\n",
       "      <th>13</th>\n",
       "      <td>CHEMBL1200528</td>\n",
       "      <td>NaN</td>\n",
       "      <td>IC50</td>\n",
       "      <td>NaN</td>\n",
       "      <td>NaN</td>\n",
       "      <td>NaN</td>\n",
       "    </tr>\n",
       "  </tbody>\n",
       "</table>\n",
       "</div>"
      ],
      "text/plain": [
       "   Molecule ChEMBL ID                                        Smiles  \\\n",
       "1           CHEMBL452  O=C1CN=C(c2ccccc2Cl)c2cc([N+](=O)[O-])ccc2N1   \n",
       "2         CHEMBL13209    O=C1CN=C(c2ccccc2)c2cc([N+](=O)[O-])ccc2N1   \n",
       "5          CHEMBL1140                                NC(=O)c1cccnc1   \n",
       "12      CHEMBL1909054                                           NaN   \n",
       "13      CHEMBL1200528                                           NaN   \n",
       "\n",
       "   Standard Type Standard Relation  Standard Value Standard Units  \n",
       "1           IC50               NaN             NaN            NaN  \n",
       "2           IC50               NaN             NaN            NaN  \n",
       "5           IC50               NaN             NaN            NaN  \n",
       "12          IC50               NaN             NaN            NaN  \n",
       "13          IC50               NaN             NaN            NaN  "
      ]
     },
     "execution_count": 70,
     "metadata": {},
     "output_type": "execute_result"
    }
   ],
   "source": [
    "df.head()"
   ]
  },
  {
   "cell_type": "code",
   "execution_count": 71,
   "id": "c29d9ef3-1b6e-4a14-a55f-d45366da91eb",
   "metadata": {},
   "outputs": [
    {
     "data": {
      "text/plain": [
       "(8205, 6)"
      ]
     },
     "execution_count": 71,
     "metadata": {},
     "output_type": "execute_result"
    }
   ],
   "source": [
    "df.shape"
   ]
  },
  {
   "cell_type": "markdown",
   "id": "eb433b7c-5a33-4c03-9c3f-a74502fda013",
   "metadata": {},
   "source": [
    "+ This results in 8205 compounds. "
   ]
  },
  {
   "cell_type": "code",
   "execution_count": 72,
   "id": "6cf843a5-683c-4daa-934d-602f2af74eb5",
   "metadata": {},
   "outputs": [
    {
     "name": "stdout",
     "output_type": "stream",
     "text": [
      "<class 'pandas.core.frame.DataFrame'>\n",
      "Int64Index: 8205 entries, 1 to 15540\n",
      "Data columns (total 6 columns):\n",
      " #   Column              Non-Null Count  Dtype  \n",
      "---  ------              --------------  -----  \n",
      " 0   Molecule ChEMBL ID  8205 non-null   object \n",
      " 1   Smiles              8170 non-null   object \n",
      " 2   Standard Type       8205 non-null   object \n",
      " 3   Standard Relation   6949 non-null   object \n",
      " 4   Standard Value      6949 non-null   float64\n",
      " 5   Standard Units      6970 non-null   object \n",
      "dtypes: float64(1), object(5)\n",
      "memory usage: 448.7+ KB\n"
     ]
    }
   ],
   "source": [
    "df.info()"
   ]
  },
  {
   "cell_type": "markdown",
   "id": "4ffd093d-17c6-4b43-909f-d78a30a65dea",
   "metadata": {},
   "source": [
    "+ Remove molecules which has no SMILES"
   ]
  },
  {
   "cell_type": "code",
   "execution_count": 73,
   "id": "738d2114-468b-4afa-9c4d-54d490c77100",
   "metadata": {},
   "outputs": [],
   "source": [
    "df = df[df[\"Smiles\"].notnull()]"
   ]
  },
  {
   "cell_type": "code",
   "execution_count": 74,
   "id": "9af91728-e539-4fe7-91a0-1db0fda0c304",
   "metadata": {},
   "outputs": [
    {
     "data": {
      "text/html": [
       "<div>\n",
       "<style scoped>\n",
       "    .dataframe tbody tr th:only-of-type {\n",
       "        vertical-align: middle;\n",
       "    }\n",
       "\n",
       "    .dataframe tbody tr th {\n",
       "        vertical-align: top;\n",
       "    }\n",
       "\n",
       "    .dataframe thead th {\n",
       "        text-align: right;\n",
       "    }\n",
       "</style>\n",
       "<table border=\"1\" class=\"dataframe\">\n",
       "  <thead>\n",
       "    <tr style=\"text-align: right;\">\n",
       "      <th></th>\n",
       "      <th>Molecule ChEMBL ID</th>\n",
       "      <th>Smiles</th>\n",
       "      <th>Standard Type</th>\n",
       "      <th>Standard Relation</th>\n",
       "      <th>Standard Value</th>\n",
       "      <th>Standard Units</th>\n",
       "    </tr>\n",
       "  </thead>\n",
       "  <tbody>\n",
       "    <tr>\n",
       "      <th>1</th>\n",
       "      <td>CHEMBL452</td>\n",
       "      <td>O=C1CN=C(c2ccccc2Cl)c2cc([N+](=O)[O-])ccc2N1</td>\n",
       "      <td>IC50</td>\n",
       "      <td>NaN</td>\n",
       "      <td>NaN</td>\n",
       "      <td>NaN</td>\n",
       "    </tr>\n",
       "    <tr>\n",
       "      <th>2</th>\n",
       "      <td>CHEMBL13209</td>\n",
       "      <td>O=C1CN=C(c2ccccc2)c2cc([N+](=O)[O-])ccc2N1</td>\n",
       "      <td>IC50</td>\n",
       "      <td>NaN</td>\n",
       "      <td>NaN</td>\n",
       "      <td>NaN</td>\n",
       "    </tr>\n",
       "    <tr>\n",
       "      <th>5</th>\n",
       "      <td>CHEMBL1140</td>\n",
       "      <td>NC(=O)c1cccnc1</td>\n",
       "      <td>IC50</td>\n",
       "      <td>NaN</td>\n",
       "      <td>NaN</td>\n",
       "      <td>NaN</td>\n",
       "    </tr>\n",
       "    <tr>\n",
       "      <th>16</th>\n",
       "      <td>CHEMBL95</td>\n",
       "      <td>Nc1c2c(nc3ccccc13)CCCC2</td>\n",
       "      <td>IC50</td>\n",
       "      <td>'='</td>\n",
       "      <td>480.0</td>\n",
       "      <td>nM</td>\n",
       "    </tr>\n",
       "    <tr>\n",
       "      <th>17</th>\n",
       "      <td>CHEMBL4752675</td>\n",
       "      <td>CO[C@]1(c2cn(O)c(=O)c(C(=O)[C@@H]3[C@H](C)C=C[...</td>\n",
       "      <td>IC50</td>\n",
       "      <td>'='</td>\n",
       "      <td>810.0</td>\n",
       "      <td>nM</td>\n",
       "    </tr>\n",
       "  </tbody>\n",
       "</table>\n",
       "</div>"
      ],
      "text/plain": [
       "   Molecule ChEMBL ID                                             Smiles  \\\n",
       "1           CHEMBL452       O=C1CN=C(c2ccccc2Cl)c2cc([N+](=O)[O-])ccc2N1   \n",
       "2         CHEMBL13209         O=C1CN=C(c2ccccc2)c2cc([N+](=O)[O-])ccc2N1   \n",
       "5          CHEMBL1140                                     NC(=O)c1cccnc1   \n",
       "16           CHEMBL95                            Nc1c2c(nc3ccccc13)CCCC2   \n",
       "17      CHEMBL4752675  CO[C@]1(c2cn(O)c(=O)c(C(=O)[C@@H]3[C@H](C)C=C[...   \n",
       "\n",
       "   Standard Type Standard Relation  Standard Value Standard Units  \n",
       "1           IC50               NaN             NaN            NaN  \n",
       "2           IC50               NaN             NaN            NaN  \n",
       "5           IC50               NaN             NaN            NaN  \n",
       "16          IC50               '='           480.0             nM  \n",
       "17          IC50               '='           810.0             nM  "
      ]
     },
     "execution_count": 74,
     "metadata": {},
     "output_type": "execute_result"
    }
   ],
   "source": [
    "df.head()"
   ]
  },
  {
   "cell_type": "code",
   "execution_count": 75,
   "id": "ef5e057b-4c16-49da-bb1b-b278d401cc6e",
   "metadata": {},
   "outputs": [
    {
     "data": {
      "text/plain": [
       "(8170, 6)"
      ]
     },
     "execution_count": 75,
     "metadata": {},
     "output_type": "execute_result"
    }
   ],
   "source": [
    "df.shape"
   ]
  },
  {
   "cell_type": "code",
   "execution_count": 76,
   "id": "7ddeac44-b8e3-49b4-bf28-eb6c05559dc0",
   "metadata": {},
   "outputs": [
    {
     "name": "stdout",
     "output_type": "stream",
     "text": [
      "<class 'pandas.core.frame.DataFrame'>\n",
      "Int64Index: 8170 entries, 1 to 15540\n",
      "Data columns (total 6 columns):\n",
      " #   Column              Non-Null Count  Dtype  \n",
      "---  ------              --------------  -----  \n",
      " 0   Molecule ChEMBL ID  8170 non-null   object \n",
      " 1   Smiles              8170 non-null   object \n",
      " 2   Standard Type       8170 non-null   object \n",
      " 3   Standard Relation   6947 non-null   object \n",
      " 4   Standard Value      6947 non-null   float64\n",
      " 5   Standard Units      6968 non-null   object \n",
      "dtypes: float64(1), object(5)\n",
      "memory usage: 446.8+ KB\n"
     ]
    }
   ],
   "source": [
    "df.info()"
   ]
  },
  {
   "cell_type": "markdown",
   "id": "a86b8650-0088-48c6-96d8-0cf34ba01caa",
   "metadata": {},
   "source": [
    "+ Remove all Null values."
   ]
  },
  {
   "cell_type": "code",
   "execution_count": 77,
   "id": "81f30879-e4cb-4737-801d-8a4c85c28351",
   "metadata": {},
   "outputs": [],
   "source": [
    "df = df.dropna()"
   ]
  },
  {
   "cell_type": "code",
   "execution_count": 78,
   "id": "19d38256-6cfd-45c6-99a5-e8d27a79f647",
   "metadata": {},
   "outputs": [
    {
     "data": {
      "text/html": [
       "<div>\n",
       "<style scoped>\n",
       "    .dataframe tbody tr th:only-of-type {\n",
       "        vertical-align: middle;\n",
       "    }\n",
       "\n",
       "    .dataframe tbody tr th {\n",
       "        vertical-align: top;\n",
       "    }\n",
       "\n",
       "    .dataframe thead th {\n",
       "        text-align: right;\n",
       "    }\n",
       "</style>\n",
       "<table border=\"1\" class=\"dataframe\">\n",
       "  <thead>\n",
       "    <tr style=\"text-align: right;\">\n",
       "      <th></th>\n",
       "      <th>Molecule ChEMBL ID</th>\n",
       "      <th>Smiles</th>\n",
       "      <th>Standard Type</th>\n",
       "      <th>Standard Relation</th>\n",
       "      <th>Standard Value</th>\n",
       "      <th>Standard Units</th>\n",
       "    </tr>\n",
       "  </thead>\n",
       "  <tbody>\n",
       "    <tr>\n",
       "      <th>16</th>\n",
       "      <td>CHEMBL95</td>\n",
       "      <td>Nc1c2c(nc3ccccc13)CCCC2</td>\n",
       "      <td>IC50</td>\n",
       "      <td>'='</td>\n",
       "      <td>480.00</td>\n",
       "      <td>nM</td>\n",
       "    </tr>\n",
       "    <tr>\n",
       "      <th>17</th>\n",
       "      <td>CHEMBL4752675</td>\n",
       "      <td>CO[C@]1(c2cn(O)c(=O)c(C(=O)[C@@H]3[C@H](C)C=C[...</td>\n",
       "      <td>IC50</td>\n",
       "      <td>'='</td>\n",
       "      <td>810.00</td>\n",
       "      <td>nM</td>\n",
       "    </tr>\n",
       "    <tr>\n",
       "      <th>18</th>\n",
       "      <td>CHEMBL571730</td>\n",
       "      <td>O=S(=O)(/N=C(\\NCCCCNc1c2c(nc3ccccc13)CCCC2)N1C...</td>\n",
       "      <td>IC50</td>\n",
       "      <td>'='</td>\n",
       "      <td>2511.89</td>\n",
       "      <td>nM</td>\n",
       "    </tr>\n",
       "    <tr>\n",
       "      <th>25</th>\n",
       "      <td>CHEMBL3415559</td>\n",
       "      <td>O=C1c2ccccc2C(=O)N1CCCCCCNCc1ccccc1</td>\n",
       "      <td>IC50</td>\n",
       "      <td>'='</td>\n",
       "      <td>2105.00</td>\n",
       "      <td>nM</td>\n",
       "    </tr>\n",
       "    <tr>\n",
       "      <th>26</th>\n",
       "      <td>CHEMBL3415564</td>\n",
       "      <td>O=C1c2ccccc2C(=O)N1CCCCCCNCc1ccccc1F</td>\n",
       "      <td>IC50</td>\n",
       "      <td>'='</td>\n",
       "      <td>941.00</td>\n",
       "      <td>nM</td>\n",
       "    </tr>\n",
       "    <tr>\n",
       "      <th>...</th>\n",
       "      <td>...</td>\n",
       "      <td>...</td>\n",
       "      <td>...</td>\n",
       "      <td>...</td>\n",
       "      <td>...</td>\n",
       "      <td>...</td>\n",
       "    </tr>\n",
       "    <tr>\n",
       "      <th>15530</th>\n",
       "      <td>CHEMBL94186</td>\n",
       "      <td>COc1ccc2onc(CCC3CCN(Cc4ccccc4)CC3)c2c1</td>\n",
       "      <td>IC50</td>\n",
       "      <td>'='</td>\n",
       "      <td>7.20</td>\n",
       "      <td>nM</td>\n",
       "    </tr>\n",
       "    <tr>\n",
       "      <th>15532</th>\n",
       "      <td>CHEMBL1677</td>\n",
       "      <td>Cl.Nc1c2c(nc3ccccc13)CCCC2</td>\n",
       "      <td>IC50</td>\n",
       "      <td>'='</td>\n",
       "      <td>205.00</td>\n",
       "      <td>nM</td>\n",
       "    </tr>\n",
       "    <tr>\n",
       "      <th>15533</th>\n",
       "      <td>CHEMBL95</td>\n",
       "      <td>Nc1c2c(nc3ccccc13)CCCC2</td>\n",
       "      <td>IC50</td>\n",
       "      <td>'='</td>\n",
       "      <td>420.00</td>\n",
       "      <td>nM</td>\n",
       "    </tr>\n",
       "    <tr>\n",
       "      <th>15537</th>\n",
       "      <td>CHEMBL95</td>\n",
       "      <td>Nc1c2c(nc3ccccc13)CCCC2</td>\n",
       "      <td>IC50</td>\n",
       "      <td>'='</td>\n",
       "      <td>180.00</td>\n",
       "      <td>nM</td>\n",
       "    </tr>\n",
       "    <tr>\n",
       "      <th>15540</th>\n",
       "      <td>CHEMBL95</td>\n",
       "      <td>Nc1c2c(nc3ccccc13)CCCC2</td>\n",
       "      <td>IC50</td>\n",
       "      <td>'='</td>\n",
       "      <td>250.00</td>\n",
       "      <td>nM</td>\n",
       "    </tr>\n",
       "  </tbody>\n",
       "</table>\n",
       "<p>6947 rows × 6 columns</p>\n",
       "</div>"
      ],
      "text/plain": [
       "      Molecule ChEMBL ID                                             Smiles  \\\n",
       "16              CHEMBL95                            Nc1c2c(nc3ccccc13)CCCC2   \n",
       "17         CHEMBL4752675  CO[C@]1(c2cn(O)c(=O)c(C(=O)[C@@H]3[C@H](C)C=C[...   \n",
       "18          CHEMBL571730  O=S(=O)(/N=C(\\NCCCCNc1c2c(nc3ccccc13)CCCC2)N1C...   \n",
       "25         CHEMBL3415559                O=C1c2ccccc2C(=O)N1CCCCCCNCc1ccccc1   \n",
       "26         CHEMBL3415564               O=C1c2ccccc2C(=O)N1CCCCCCNCc1ccccc1F   \n",
       "...                  ...                                                ...   \n",
       "15530        CHEMBL94186             COc1ccc2onc(CCC3CCN(Cc4ccccc4)CC3)c2c1   \n",
       "15532         CHEMBL1677                         Cl.Nc1c2c(nc3ccccc13)CCCC2   \n",
       "15533           CHEMBL95                            Nc1c2c(nc3ccccc13)CCCC2   \n",
       "15537           CHEMBL95                            Nc1c2c(nc3ccccc13)CCCC2   \n",
       "15540           CHEMBL95                            Nc1c2c(nc3ccccc13)CCCC2   \n",
       "\n",
       "      Standard Type Standard Relation  Standard Value Standard Units  \n",
       "16             IC50               '='          480.00             nM  \n",
       "17             IC50               '='          810.00             nM  \n",
       "18             IC50               '='         2511.89             nM  \n",
       "25             IC50               '='         2105.00             nM  \n",
       "26             IC50               '='          941.00             nM  \n",
       "...             ...               ...             ...            ...  \n",
       "15530          IC50               '='            7.20             nM  \n",
       "15532          IC50               '='          205.00             nM  \n",
       "15533          IC50               '='          420.00             nM  \n",
       "15537          IC50               '='          180.00             nM  \n",
       "15540          IC50               '='          250.00             nM  \n",
       "\n",
       "[6947 rows x 6 columns]"
      ]
     },
     "execution_count": 78,
     "metadata": {},
     "output_type": "execute_result"
    }
   ],
   "source": [
    "df"
   ]
  },
  {
   "cell_type": "code",
   "execution_count": 79,
   "id": "2c2f8a91-6c70-4a78-a53a-bfd2261afe5a",
   "metadata": {},
   "outputs": [
    {
     "data": {
      "text/plain": [
       "(6947, 6)"
      ]
     },
     "execution_count": 79,
     "metadata": {},
     "output_type": "execute_result"
    }
   ],
   "source": [
    "df.shape"
   ]
  },
  {
   "cell_type": "code",
   "execution_count": 80,
   "id": "3e57e01d-d33b-4643-a220-53f245b2e901",
   "metadata": {},
   "outputs": [
    {
     "data": {
      "text/html": [
       "<div>\n",
       "<style scoped>\n",
       "    .dataframe tbody tr th:only-of-type {\n",
       "        vertical-align: middle;\n",
       "    }\n",
       "\n",
       "    .dataframe tbody tr th {\n",
       "        vertical-align: top;\n",
       "    }\n",
       "\n",
       "    .dataframe thead th {\n",
       "        text-align: right;\n",
       "    }\n",
       "</style>\n",
       "<table border=\"1\" class=\"dataframe\">\n",
       "  <thead>\n",
       "    <tr style=\"text-align: right;\">\n",
       "      <th></th>\n",
       "      <th>Molecule ChEMBL ID</th>\n",
       "      <th>Smiles</th>\n",
       "      <th>Standard Type</th>\n",
       "      <th>Standard Relation</th>\n",
       "      <th>Standard Value</th>\n",
       "      <th>Standard Units</th>\n",
       "    </tr>\n",
       "  </thead>\n",
       "  <tbody>\n",
       "    <tr>\n",
       "      <th>16</th>\n",
       "      <td>CHEMBL95</td>\n",
       "      <td>Nc1c2c(nc3ccccc13)CCCC2</td>\n",
       "      <td>IC50</td>\n",
       "      <td>'='</td>\n",
       "      <td>480.00</td>\n",
       "      <td>nM</td>\n",
       "    </tr>\n",
       "    <tr>\n",
       "      <th>17</th>\n",
       "      <td>CHEMBL4752675</td>\n",
       "      <td>CO[C@]1(c2cn(O)c(=O)c(C(=O)[C@@H]3[C@H](C)C=C[...</td>\n",
       "      <td>IC50</td>\n",
       "      <td>'='</td>\n",
       "      <td>810.00</td>\n",
       "      <td>nM</td>\n",
       "    </tr>\n",
       "    <tr>\n",
       "      <th>18</th>\n",
       "      <td>CHEMBL571730</td>\n",
       "      <td>O=S(=O)(/N=C(\\NCCCCNc1c2c(nc3ccccc13)CCCC2)N1C...</td>\n",
       "      <td>IC50</td>\n",
       "      <td>'='</td>\n",
       "      <td>2511.89</td>\n",
       "      <td>nM</td>\n",
       "    </tr>\n",
       "    <tr>\n",
       "      <th>25</th>\n",
       "      <td>CHEMBL3415559</td>\n",
       "      <td>O=C1c2ccccc2C(=O)N1CCCCCCNCc1ccccc1</td>\n",
       "      <td>IC50</td>\n",
       "      <td>'='</td>\n",
       "      <td>2105.00</td>\n",
       "      <td>nM</td>\n",
       "    </tr>\n",
       "    <tr>\n",
       "      <th>26</th>\n",
       "      <td>CHEMBL3415564</td>\n",
       "      <td>O=C1c2ccccc2C(=O)N1CCCCCCNCc1ccccc1F</td>\n",
       "      <td>IC50</td>\n",
       "      <td>'='</td>\n",
       "      <td>941.00</td>\n",
       "      <td>nM</td>\n",
       "    </tr>\n",
       "  </tbody>\n",
       "</table>\n",
       "</div>"
      ],
      "text/plain": [
       "   Molecule ChEMBL ID                                             Smiles  \\\n",
       "16           CHEMBL95                            Nc1c2c(nc3ccccc13)CCCC2   \n",
       "17      CHEMBL4752675  CO[C@]1(c2cn(O)c(=O)c(C(=O)[C@@H]3[C@H](C)C=C[...   \n",
       "18       CHEMBL571730  O=S(=O)(/N=C(\\NCCCCNc1c2c(nc3ccccc13)CCCC2)N1C...   \n",
       "25      CHEMBL3415559                O=C1c2ccccc2C(=O)N1CCCCCCNCc1ccccc1   \n",
       "26      CHEMBL3415564               O=C1c2ccccc2C(=O)N1CCCCCCNCc1ccccc1F   \n",
       "\n",
       "   Standard Type Standard Relation  Standard Value Standard Units  \n",
       "16          IC50               '='          480.00             nM  \n",
       "17          IC50               '='          810.00             nM  \n",
       "18          IC50               '='         2511.89             nM  \n",
       "25          IC50               '='         2105.00             nM  \n",
       "26          IC50               '='          941.00             nM  "
      ]
     },
     "execution_count": 80,
     "metadata": {},
     "output_type": "execute_result"
    }
   ],
   "source": [
    "df.head()"
   ]
  },
  {
   "cell_type": "markdown",
   "id": "ed64aa30-d5a0-41ba-bb7e-e3214c926691",
   "metadata": {},
   "source": [
    "+ Checking for Standard Units"
   ]
  },
  {
   "cell_type": "code",
   "execution_count": 81,
   "id": "fdd25958-c45d-4658-b0d3-744f4238767c",
   "metadata": {},
   "outputs": [
    {
     "data": {
      "text/plain": [
       "nM             6908\n",
       "ug.mL-1          31\n",
       "10'5pM            3\n",
       "10^-4microM       2\n",
       "10'6pM            2\n",
       "10'3pM            1\n",
       "Name: Standard Units, dtype: int64"
      ]
     },
     "execution_count": 81,
     "metadata": {},
     "output_type": "execute_result"
    }
   ],
   "source": [
    "df[\"Standard Units\"].value_counts()"
   ]
  },
  {
   "cell_type": "markdown",
   "id": "5c0f3a27-b7f9-4978-83a9-1da07011cc4f",
   "metadata": {},
   "source": [
    "+ We keep only nM values. "
   ]
  },
  {
   "cell_type": "code",
   "execution_count": 82,
   "id": "5ab42cfe-b2a9-417b-a711-cb5e0ac3596f",
   "metadata": {},
   "outputs": [],
   "source": [
    "df = df[df[\"Standard Units\"] == \"nM\"]"
   ]
  },
  {
   "cell_type": "code",
   "execution_count": 83,
   "id": "5a2ae64e-10e2-4972-b66f-2840ca8e1aca",
   "metadata": {},
   "outputs": [
    {
     "data": {
      "text/plain": [
       "(6908, 6)"
      ]
     },
     "execution_count": 83,
     "metadata": {},
     "output_type": "execute_result"
    }
   ],
   "source": [
    "df.shape"
   ]
  },
  {
   "cell_type": "markdown",
   "id": "70363733-ea6a-49af-91f7-64e85d4c8bed",
   "metadata": {},
   "source": [
    "+ Checking for Standard Relation"
   ]
  },
  {
   "cell_type": "code",
   "execution_count": 84,
   "id": "84b2bd17-21ac-429a-a922-3d6ce305886a",
   "metadata": {},
   "outputs": [
    {
     "data": {
      "text/plain": [
       "'='     6244\n",
       "'>'      649\n",
       "'<'       11\n",
       "'>>'       2\n",
       "'~'        2\n",
       "Name: Standard Relation, dtype: int64"
      ]
     },
     "execution_count": 84,
     "metadata": {},
     "output_type": "execute_result"
    }
   ],
   "source": [
    "df[\"Standard Relation\"].value_counts()"
   ]
  },
  {
   "cell_type": "markdown",
   "id": "dd21a858-49cf-4abf-a56e-99538ff57e1b",
   "metadata": {},
   "source": [
    "+ We will keep only \"=\" values since other values are not decisive. "
   ]
  },
  {
   "cell_type": "code",
   "execution_count": 85,
   "id": "ae1094c6-7b9c-4dc5-941d-009b8f200a83",
   "metadata": {},
   "outputs": [],
   "source": [
    "df = df[df[\"Standard Relation\"] == \"'='\"]"
   ]
  },
  {
   "cell_type": "code",
   "execution_count": 86,
   "id": "d466f1ab-12e4-400e-aa5b-34a9e9889ab7",
   "metadata": {},
   "outputs": [
    {
     "data": {
      "text/html": [
       "<div>\n",
       "<style scoped>\n",
       "    .dataframe tbody tr th:only-of-type {\n",
       "        vertical-align: middle;\n",
       "    }\n",
       "\n",
       "    .dataframe tbody tr th {\n",
       "        vertical-align: top;\n",
       "    }\n",
       "\n",
       "    .dataframe thead th {\n",
       "        text-align: right;\n",
       "    }\n",
       "</style>\n",
       "<table border=\"1\" class=\"dataframe\">\n",
       "  <thead>\n",
       "    <tr style=\"text-align: right;\">\n",
       "      <th></th>\n",
       "      <th>Molecule ChEMBL ID</th>\n",
       "      <th>Smiles</th>\n",
       "      <th>Standard Type</th>\n",
       "      <th>Standard Relation</th>\n",
       "      <th>Standard Value</th>\n",
       "      <th>Standard Units</th>\n",
       "    </tr>\n",
       "  </thead>\n",
       "  <tbody>\n",
       "    <tr>\n",
       "      <th>16</th>\n",
       "      <td>CHEMBL95</td>\n",
       "      <td>Nc1c2c(nc3ccccc13)CCCC2</td>\n",
       "      <td>IC50</td>\n",
       "      <td>'='</td>\n",
       "      <td>480.00</td>\n",
       "      <td>nM</td>\n",
       "    </tr>\n",
       "    <tr>\n",
       "      <th>17</th>\n",
       "      <td>CHEMBL4752675</td>\n",
       "      <td>CO[C@]1(c2cn(O)c(=O)c(C(=O)[C@@H]3[C@H](C)C=C[...</td>\n",
       "      <td>IC50</td>\n",
       "      <td>'='</td>\n",
       "      <td>810.00</td>\n",
       "      <td>nM</td>\n",
       "    </tr>\n",
       "    <tr>\n",
       "      <th>18</th>\n",
       "      <td>CHEMBL571730</td>\n",
       "      <td>O=S(=O)(/N=C(\\NCCCCNc1c2c(nc3ccccc13)CCCC2)N1C...</td>\n",
       "      <td>IC50</td>\n",
       "      <td>'='</td>\n",
       "      <td>2511.89</td>\n",
       "      <td>nM</td>\n",
       "    </tr>\n",
       "    <tr>\n",
       "      <th>25</th>\n",
       "      <td>CHEMBL3415559</td>\n",
       "      <td>O=C1c2ccccc2C(=O)N1CCCCCCNCc1ccccc1</td>\n",
       "      <td>IC50</td>\n",
       "      <td>'='</td>\n",
       "      <td>2105.00</td>\n",
       "      <td>nM</td>\n",
       "    </tr>\n",
       "    <tr>\n",
       "      <th>26</th>\n",
       "      <td>CHEMBL3415564</td>\n",
       "      <td>O=C1c2ccccc2C(=O)N1CCCCCCNCc1ccccc1F</td>\n",
       "      <td>IC50</td>\n",
       "      <td>'='</td>\n",
       "      <td>941.00</td>\n",
       "      <td>nM</td>\n",
       "    </tr>\n",
       "  </tbody>\n",
       "</table>\n",
       "</div>"
      ],
      "text/plain": [
       "   Molecule ChEMBL ID                                             Smiles  \\\n",
       "16           CHEMBL95                            Nc1c2c(nc3ccccc13)CCCC2   \n",
       "17      CHEMBL4752675  CO[C@]1(c2cn(O)c(=O)c(C(=O)[C@@H]3[C@H](C)C=C[...   \n",
       "18       CHEMBL571730  O=S(=O)(/N=C(\\NCCCCNc1c2c(nc3ccccc13)CCCC2)N1C...   \n",
       "25      CHEMBL3415559                O=C1c2ccccc2C(=O)N1CCCCCCNCc1ccccc1   \n",
       "26      CHEMBL3415564               O=C1c2ccccc2C(=O)N1CCCCCCNCc1ccccc1F   \n",
       "\n",
       "   Standard Type Standard Relation  Standard Value Standard Units  \n",
       "16          IC50               '='          480.00             nM  \n",
       "17          IC50               '='          810.00             nM  \n",
       "18          IC50               '='         2511.89             nM  \n",
       "25          IC50               '='         2105.00             nM  \n",
       "26          IC50               '='          941.00             nM  "
      ]
     },
     "execution_count": 86,
     "metadata": {},
     "output_type": "execute_result"
    }
   ],
   "source": [
    "df.head()"
   ]
  },
  {
   "cell_type": "code",
   "execution_count": 87,
   "id": "c3a78cb3-c230-45e4-9ef4-4070e101d0a4",
   "metadata": {},
   "outputs": [
    {
     "data": {
      "text/plain": [
       "(6244, 6)"
      ]
     },
     "execution_count": 87,
     "metadata": {},
     "output_type": "execute_result"
    }
   ],
   "source": [
    "df.shape"
   ]
  },
  {
   "cell_type": "code",
   "execution_count": 88,
   "id": "43e63a3b-53ac-49a8-bfd7-3e93b6a0f323",
   "metadata": {},
   "outputs": [
    {
     "name": "stdout",
     "output_type": "stream",
     "text": [
      "<class 'pandas.core.frame.DataFrame'>\n",
      "Int64Index: 6244 entries, 16 to 15540\n",
      "Data columns (total 6 columns):\n",
      " #   Column              Non-Null Count  Dtype  \n",
      "---  ------              --------------  -----  \n",
      " 0   Molecule ChEMBL ID  6244 non-null   object \n",
      " 1   Smiles              6244 non-null   object \n",
      " 2   Standard Type       6244 non-null   object \n",
      " 3   Standard Relation   6244 non-null   object \n",
      " 4   Standard Value      6244 non-null   float64\n",
      " 5   Standard Units      6244 non-null   object \n",
      "dtypes: float64(1), object(5)\n",
      "memory usage: 341.5+ KB\n"
     ]
    }
   ],
   "source": [
    "df.info()"
   ]
  },
  {
   "cell_type": "markdown",
   "id": "49cd8318-fb2b-41ce-a7e9-74e72704e79c",
   "metadata": {},
   "source": [
    "+ Check for duplicate molecules."
   ]
  },
  {
   "cell_type": "code",
   "execution_count": 91,
   "id": "33767e38-3fa0-41c8-96ac-efbf908315a7",
   "metadata": {},
   "outputs": [
    {
     "data": {
      "text/html": [
       "<div>\n",
       "<style scoped>\n",
       "    .dataframe tbody tr th:only-of-type {\n",
       "        vertical-align: middle;\n",
       "    }\n",
       "\n",
       "    .dataframe tbody tr th {\n",
       "        vertical-align: top;\n",
       "    }\n",
       "\n",
       "    .dataframe thead th {\n",
       "        text-align: right;\n",
       "    }\n",
       "</style>\n",
       "<table border=\"1\" class=\"dataframe\">\n",
       "  <thead>\n",
       "    <tr style=\"text-align: right;\">\n",
       "      <th></th>\n",
       "      <th>index</th>\n",
       "      <th>Molecule ChEMBL ID</th>\n",
       "    </tr>\n",
       "  </thead>\n",
       "  <tbody>\n",
       "    <tr>\n",
       "      <th>0</th>\n",
       "      <td>CHEMBL95</td>\n",
       "      <td>156</td>\n",
       "    </tr>\n",
       "    <tr>\n",
       "      <th>1</th>\n",
       "      <td>CHEMBL502</td>\n",
       "      <td>120</td>\n",
       "    </tr>\n",
       "    <tr>\n",
       "      <th>2</th>\n",
       "      <td>CHEMBL659</td>\n",
       "      <td>67</td>\n",
       "    </tr>\n",
       "    <tr>\n",
       "      <th>3</th>\n",
       "      <td>CHEMBL94</td>\n",
       "      <td>47</td>\n",
       "    </tr>\n",
       "    <tr>\n",
       "      <th>4</th>\n",
       "      <td>CHEMBL636</td>\n",
       "      <td>41</td>\n",
       "    </tr>\n",
       "    <tr>\n",
       "      <th>5</th>\n",
       "      <td>CHEMBL1255901</td>\n",
       "      <td>18</td>\n",
       "    </tr>\n",
       "    <tr>\n",
       "      <th>6</th>\n",
       "      <td>CHEMBL292314</td>\n",
       "      <td>16</td>\n",
       "    </tr>\n",
       "    <tr>\n",
       "      <th>7</th>\n",
       "      <td>CHEMBL345124</td>\n",
       "      <td>13</td>\n",
       "    </tr>\n",
       "    <tr>\n",
       "      <th>8</th>\n",
       "      <td>CHEMBL433041</td>\n",
       "      <td>13</td>\n",
       "    </tr>\n",
       "    <tr>\n",
       "      <th>9</th>\n",
       "      <td>CHEMBL140476</td>\n",
       "      <td>12</td>\n",
       "    </tr>\n",
       "    <tr>\n",
       "      <th>10</th>\n",
       "      <td>CHEMBL54126</td>\n",
       "      <td>11</td>\n",
       "    </tr>\n",
       "    <tr>\n",
       "      <th>11</th>\n",
       "      <td>CHEMBL231160</td>\n",
       "      <td>11</td>\n",
       "    </tr>\n",
       "    <tr>\n",
       "      <th>12</th>\n",
       "      <td>CHEMBL11805</td>\n",
       "      <td>10</td>\n",
       "    </tr>\n",
       "    <tr>\n",
       "      <th>13</th>\n",
       "      <td>CHEMBL75121</td>\n",
       "      <td>9</td>\n",
       "    </tr>\n",
       "    <tr>\n",
       "      <th>14</th>\n",
       "      <td>CHEMBL1256415</td>\n",
       "      <td>9</td>\n",
       "    </tr>\n",
       "    <tr>\n",
       "      <th>15</th>\n",
       "      <td>CHEMBL1677</td>\n",
       "      <td>8</td>\n",
       "    </tr>\n",
       "    <tr>\n",
       "      <th>16</th>\n",
       "      <td>CHEMBL194823</td>\n",
       "      <td>8</td>\n",
       "    </tr>\n",
       "    <tr>\n",
       "      <th>17</th>\n",
       "      <td>CHEMBL32823</td>\n",
       "      <td>8</td>\n",
       "    </tr>\n",
       "    <tr>\n",
       "      <th>18</th>\n",
       "      <td>CHEMBL62084</td>\n",
       "      <td>7</td>\n",
       "    </tr>\n",
       "    <tr>\n",
       "      <th>19</th>\n",
       "      <td>CHEMBL54727</td>\n",
       "      <td>7</td>\n",
       "    </tr>\n",
       "  </tbody>\n",
       "</table>\n",
       "</div>"
      ],
      "text/plain": [
       "            index  Molecule ChEMBL ID\n",
       "0        CHEMBL95                 156\n",
       "1       CHEMBL502                 120\n",
       "2       CHEMBL659                  67\n",
       "3        CHEMBL94                  47\n",
       "4       CHEMBL636                  41\n",
       "5   CHEMBL1255901                  18\n",
       "6    CHEMBL292314                  16\n",
       "7    CHEMBL345124                  13\n",
       "8    CHEMBL433041                  13\n",
       "9    CHEMBL140476                  12\n",
       "10    CHEMBL54126                  11\n",
       "11   CHEMBL231160                  11\n",
       "12    CHEMBL11805                  10\n",
       "13    CHEMBL75121                   9\n",
       "14  CHEMBL1256415                   9\n",
       "15     CHEMBL1677                   8\n",
       "16   CHEMBL194823                   8\n",
       "17    CHEMBL32823                   8\n",
       "18    CHEMBL62084                   7\n",
       "19    CHEMBL54727                   7"
      ]
     },
     "execution_count": 91,
     "metadata": {},
     "output_type": "execute_result"
    }
   ],
   "source": [
    "df[\"Molecule ChEMBL ID\"].value_counts().reset_index().head(20)"
   ]
  },
  {
   "cell_type": "markdown",
   "id": "b47baf7d-7f8d-4cfb-a901-280bfbaad346",
   "metadata": {},
   "source": [
    "+ There are so many molecules which are duplicated. "
   ]
  },
  {
   "cell_type": "code",
   "execution_count": 102,
   "id": "81309ff4-534c-4a9f-9ebf-c612a90c1a1f",
   "metadata": {},
   "outputs": [
    {
     "data": {
      "text/html": [
       "<div>\n",
       "<style scoped>\n",
       "    .dataframe tbody tr th:only-of-type {\n",
       "        vertical-align: middle;\n",
       "    }\n",
       "\n",
       "    .dataframe tbody tr th {\n",
       "        vertical-align: top;\n",
       "    }\n",
       "\n",
       "    .dataframe thead th {\n",
       "        text-align: right;\n",
       "    }\n",
       "</style>\n",
       "<table border=\"1\" class=\"dataframe\">\n",
       "  <thead>\n",
       "    <tr style=\"text-align: right;\">\n",
       "      <th></th>\n",
       "      <th>count</th>\n",
       "      <th>mean</th>\n",
       "      <th>std</th>\n",
       "      <th>min</th>\n",
       "      <th>25%</th>\n",
       "      <th>50%</th>\n",
       "      <th>75%</th>\n",
       "      <th>max</th>\n",
       "    </tr>\n",
       "    <tr>\n",
       "      <th>Molecule ChEMBL ID</th>\n",
       "      <th></th>\n",
       "      <th></th>\n",
       "      <th></th>\n",
       "      <th></th>\n",
       "      <th></th>\n",
       "      <th></th>\n",
       "      <th></th>\n",
       "      <th></th>\n",
       "    </tr>\n",
       "  </thead>\n",
       "  <tbody>\n",
       "    <tr>\n",
       "      <th>CHEMBL95</th>\n",
       "      <td>156.0</td>\n",
       "      <td>2.930052e+13</td>\n",
       "      <td>3.659634e+14</td>\n",
       "      <td>3.160</td>\n",
       "      <td>130.7500</td>\n",
       "      <td>240.000</td>\n",
       "      <td>414.00000</td>\n",
       "      <td>4.570882e+15</td>\n",
       "    </tr>\n",
       "    <tr>\n",
       "      <th>CHEMBL502</th>\n",
       "      <td>120.0</td>\n",
       "      <td>2.335387e+02</td>\n",
       "      <td>1.087093e+03</td>\n",
       "      <td>2.000</td>\n",
       "      <td>9.0000</td>\n",
       "      <td>16.000</td>\n",
       "      <td>31.85000</td>\n",
       "      <td>7.560000e+03</td>\n",
       "    </tr>\n",
       "    <tr>\n",
       "      <th>CHEMBL659</th>\n",
       "      <td>67.0</td>\n",
       "      <td>4.467109e+03</td>\n",
       "      <td>1.404909e+04</td>\n",
       "      <td>100.000</td>\n",
       "      <td>600.0000</td>\n",
       "      <td>1270.000</td>\n",
       "      <td>2350.00000</td>\n",
       "      <td>9.000000e+04</td>\n",
       "    </tr>\n",
       "    <tr>\n",
       "      <th>CHEMBL94</th>\n",
       "      <td>47.0</td>\n",
       "      <td>1.506268e+15</td>\n",
       "      <td>1.032645e+16</td>\n",
       "      <td>0.430</td>\n",
       "      <td>27.9000</td>\n",
       "      <td>43.000</td>\n",
       "      <td>128.00000</td>\n",
       "      <td>7.079458e+16</td>\n",
       "    </tr>\n",
       "    <tr>\n",
       "      <th>CHEMBL636</th>\n",
       "      <td>41.0</td>\n",
       "      <td>4.554317e+03</td>\n",
       "      <td>7.575742e+03</td>\n",
       "      <td>37.000</td>\n",
       "      <td>1535.0000</td>\n",
       "      <td>3030.000</td>\n",
       "      <td>4150.00000</td>\n",
       "      <td>4.800000e+04</td>\n",
       "    </tr>\n",
       "    <tr>\n",
       "      <th>CHEMBL1255901</th>\n",
       "      <td>18.0</td>\n",
       "      <td>1.821411e+02</td>\n",
       "      <td>3.919425e+02</td>\n",
       "      <td>0.540</td>\n",
       "      <td>14.2500</td>\n",
       "      <td>47.000</td>\n",
       "      <td>232.50000</td>\n",
       "      <td>1.700000e+03</td>\n",
       "    </tr>\n",
       "    <tr>\n",
       "      <th>CHEMBL292314</th>\n",
       "      <td>16.0</td>\n",
       "      <td>1.181250e+01</td>\n",
       "      <td>5.937577e+00</td>\n",
       "      <td>1.800</td>\n",
       "      <td>8.5450</td>\n",
       "      <td>11.600</td>\n",
       "      <td>15.27500</td>\n",
       "      <td>2.000000e+01</td>\n",
       "    </tr>\n",
       "    <tr>\n",
       "      <th>CHEMBL345124</th>\n",
       "      <td>13.0</td>\n",
       "      <td>2.681077e+04</td>\n",
       "      <td>1.134142e+04</td>\n",
       "      <td>7140.000</td>\n",
       "      <td>13000.0000</td>\n",
       "      <td>32300.000</td>\n",
       "      <td>32300.00000</td>\n",
       "      <td>4.500000e+04</td>\n",
       "    </tr>\n",
       "    <tr>\n",
       "      <th>CHEMBL433041</th>\n",
       "      <td>13.0</td>\n",
       "      <td>1.751077e+03</td>\n",
       "      <td>6.084577e+03</td>\n",
       "      <td>5.000</td>\n",
       "      <td>22.0000</td>\n",
       "      <td>22.000</td>\n",
       "      <td>110.00000</td>\n",
       "      <td>2.200000e+04</td>\n",
       "    </tr>\n",
       "    <tr>\n",
       "      <th>CHEMBL140476</th>\n",
       "      <td>12.0</td>\n",
       "      <td>2.111947e+01</td>\n",
       "      <td>4.759012e+01</td>\n",
       "      <td>0.320</td>\n",
       "      <td>0.5384</td>\n",
       "      <td>0.740</td>\n",
       "      <td>1.26250</td>\n",
       "      <td>1.230000e+02</td>\n",
       "    </tr>\n",
       "    <tr>\n",
       "      <th>CHEMBL231160</th>\n",
       "      <td>11.0</td>\n",
       "      <td>9.658114e+03</td>\n",
       "      <td>1.284104e+04</td>\n",
       "      <td>1.500</td>\n",
       "      <td>1.5500</td>\n",
       "      <td>1.550</td>\n",
       "      <td>21850.00000</td>\n",
       "      <td>2.830000e+04</td>\n",
       "    </tr>\n",
       "    <tr>\n",
       "      <th>CHEMBL54126</th>\n",
       "      <td>11.0</td>\n",
       "      <td>1.111848e+02</td>\n",
       "      <td>1.719687e+02</td>\n",
       "      <td>0.043</td>\n",
       "      <td>26.5000</td>\n",
       "      <td>45.000</td>\n",
       "      <td>95.50000</td>\n",
       "      <td>6.000000e+02</td>\n",
       "    </tr>\n",
       "    <tr>\n",
       "      <th>CHEMBL11805</th>\n",
       "      <td>10.0</td>\n",
       "      <td>5.888437e+14</td>\n",
       "      <td>1.862087e+15</td>\n",
       "      <td>104.000</td>\n",
       "      <td>169.8200</td>\n",
       "      <td>169.820</td>\n",
       "      <td>170.00000</td>\n",
       "      <td>5.888437e+15</td>\n",
       "    </tr>\n",
       "    <tr>\n",
       "      <th>CHEMBL1256415</th>\n",
       "      <td>9.0</td>\n",
       "      <td>1.233333e+04</td>\n",
       "      <td>2.537223e+03</td>\n",
       "      <td>10000.000</td>\n",
       "      <td>10000.0000</td>\n",
       "      <td>10500.000</td>\n",
       "      <td>15000.00000</td>\n",
       "      <td>1.500000e+04</td>\n",
       "    </tr>\n",
       "    <tr>\n",
       "      <th>CHEMBL75121</th>\n",
       "      <td>9.0</td>\n",
       "      <td>4.444444e+01</td>\n",
       "      <td>1.666667e-01</td>\n",
       "      <td>44.000</td>\n",
       "      <td>44.5000</td>\n",
       "      <td>44.500</td>\n",
       "      <td>44.50000</td>\n",
       "      <td>4.450000e+01</td>\n",
       "    </tr>\n",
       "    <tr>\n",
       "      <th>CHEMBL1677</th>\n",
       "      <td>8.0</td>\n",
       "      <td>3.162500e+02</td>\n",
       "      <td>3.119944e+02</td>\n",
       "      <td>93.000</td>\n",
       "      <td>154.0000</td>\n",
       "      <td>205.000</td>\n",
       "      <td>278.75000</td>\n",
       "      <td>1.026000e+03</td>\n",
       "    </tr>\n",
       "    <tr>\n",
       "      <th>CHEMBL194823</th>\n",
       "      <td>8.0</td>\n",
       "      <td>1.125019e+04</td>\n",
       "      <td>2.083084e+04</td>\n",
       "      <td>0.250</td>\n",
       "      <td>0.2500</td>\n",
       "      <td>0.253</td>\n",
       "      <td>11250.18975</td>\n",
       "      <td>4.500000e+04</td>\n",
       "    </tr>\n",
       "    <tr>\n",
       "      <th>CHEMBL32823</th>\n",
       "      <td>8.0</td>\n",
       "      <td>1.053750e+00</td>\n",
       "      <td>1.212399e+00</td>\n",
       "      <td>0.200</td>\n",
       "      <td>0.5425</td>\n",
       "      <td>0.810</td>\n",
       "      <td>0.81000</td>\n",
       "      <td>4.000000e+00</td>\n",
       "    </tr>\n",
       "    <tr>\n",
       "      <th>CHEMBL54727</th>\n",
       "      <td>7.0</td>\n",
       "      <td>1.168500e+02</td>\n",
       "      <td>1.592564e+02</td>\n",
       "      <td>22.000</td>\n",
       "      <td>24.0000</td>\n",
       "      <td>24.000</td>\n",
       "      <td>186.97500</td>\n",
       "      <td>3.500000e+02</td>\n",
       "    </tr>\n",
       "    <tr>\n",
       "      <th>CHEMBL340427</th>\n",
       "      <td>7.0</td>\n",
       "      <td>4.311429e+01</td>\n",
       "      <td>1.132760e+02</td>\n",
       "      <td>0.300</td>\n",
       "      <td>0.3000</td>\n",
       "      <td>0.300</td>\n",
       "      <td>0.30000</td>\n",
       "      <td>3.000000e+02</td>\n",
       "    </tr>\n",
       "  </tbody>\n",
       "</table>\n",
       "</div>"
      ],
      "text/plain": [
       "                    count          mean           std        min         25%  \\\n",
       "Molecule ChEMBL ID                                                             \n",
       "CHEMBL95            156.0  2.930052e+13  3.659634e+14      3.160    130.7500   \n",
       "CHEMBL502           120.0  2.335387e+02  1.087093e+03      2.000      9.0000   \n",
       "CHEMBL659            67.0  4.467109e+03  1.404909e+04    100.000    600.0000   \n",
       "CHEMBL94             47.0  1.506268e+15  1.032645e+16      0.430     27.9000   \n",
       "CHEMBL636            41.0  4.554317e+03  7.575742e+03     37.000   1535.0000   \n",
       "CHEMBL1255901        18.0  1.821411e+02  3.919425e+02      0.540     14.2500   \n",
       "CHEMBL292314         16.0  1.181250e+01  5.937577e+00      1.800      8.5450   \n",
       "CHEMBL345124         13.0  2.681077e+04  1.134142e+04   7140.000  13000.0000   \n",
       "CHEMBL433041         13.0  1.751077e+03  6.084577e+03      5.000     22.0000   \n",
       "CHEMBL140476         12.0  2.111947e+01  4.759012e+01      0.320      0.5384   \n",
       "CHEMBL231160         11.0  9.658114e+03  1.284104e+04      1.500      1.5500   \n",
       "CHEMBL54126          11.0  1.111848e+02  1.719687e+02      0.043     26.5000   \n",
       "CHEMBL11805          10.0  5.888437e+14  1.862087e+15    104.000    169.8200   \n",
       "CHEMBL1256415         9.0  1.233333e+04  2.537223e+03  10000.000  10000.0000   \n",
       "CHEMBL75121           9.0  4.444444e+01  1.666667e-01     44.000     44.5000   \n",
       "CHEMBL1677            8.0  3.162500e+02  3.119944e+02     93.000    154.0000   \n",
       "CHEMBL194823          8.0  1.125019e+04  2.083084e+04      0.250      0.2500   \n",
       "CHEMBL32823           8.0  1.053750e+00  1.212399e+00      0.200      0.5425   \n",
       "CHEMBL54727           7.0  1.168500e+02  1.592564e+02     22.000     24.0000   \n",
       "CHEMBL340427          7.0  4.311429e+01  1.132760e+02      0.300      0.3000   \n",
       "\n",
       "                          50%          75%           max  \n",
       "Molecule ChEMBL ID                                        \n",
       "CHEMBL95              240.000    414.00000  4.570882e+15  \n",
       "CHEMBL502              16.000     31.85000  7.560000e+03  \n",
       "CHEMBL659            1270.000   2350.00000  9.000000e+04  \n",
       "CHEMBL94               43.000    128.00000  7.079458e+16  \n",
       "CHEMBL636            3030.000   4150.00000  4.800000e+04  \n",
       "CHEMBL1255901          47.000    232.50000  1.700000e+03  \n",
       "CHEMBL292314           11.600     15.27500  2.000000e+01  \n",
       "CHEMBL345124        32300.000  32300.00000  4.500000e+04  \n",
       "CHEMBL433041           22.000    110.00000  2.200000e+04  \n",
       "CHEMBL140476            0.740      1.26250  1.230000e+02  \n",
       "CHEMBL231160            1.550  21850.00000  2.830000e+04  \n",
       "CHEMBL54126            45.000     95.50000  6.000000e+02  \n",
       "CHEMBL11805           169.820    170.00000  5.888437e+15  \n",
       "CHEMBL1256415       10500.000  15000.00000  1.500000e+04  \n",
       "CHEMBL75121            44.500     44.50000  4.450000e+01  \n",
       "CHEMBL1677            205.000    278.75000  1.026000e+03  \n",
       "CHEMBL194823            0.253  11250.18975  4.500000e+04  \n",
       "CHEMBL32823             0.810      0.81000  4.000000e+00  \n",
       "CHEMBL54727            24.000    186.97500  3.500000e+02  \n",
       "CHEMBL340427            0.300      0.30000  3.000000e+02  "
      ]
     },
     "execution_count": 102,
     "metadata": {},
     "output_type": "execute_result"
    }
   ],
   "source": [
    "df.groupby(\"Molecule ChEMBL ID\")[\"Standard Value\"].describe().sort_values(by=\"count\",ascending = False).head(20)"
   ]
  },
  {
   "cell_type": "markdown",
   "id": "a7c500be-5758-4c13-a492-22f8de2087f9",
   "metadata": {},
   "source": [
    "+ To solve this issue, we will sort the dataset in descending order then remove duplicates and keep only one value."
   ]
  },
  {
   "cell_type": "code",
   "execution_count": 107,
   "id": "645fba61-d947-4cb3-957f-1f6add405f86",
   "metadata": {},
   "outputs": [],
   "source": [
    "df = df.sort_values(by=\"Standard Value\",ascending = False)"
   ]
  },
  {
   "cell_type": "code",
   "execution_count": 110,
   "id": "480cd97c-6532-4ac8-8f57-75c6d1af7b97",
   "metadata": {},
   "outputs": [],
   "source": [
    "df.drop_duplicates(\"Molecule ChEMBL ID\",keep=\"first\",inplace=True)"
   ]
  },
  {
   "cell_type": "code",
   "execution_count": 112,
   "id": "3c0e595a-0252-443c-9298-cb9397e55033",
   "metadata": {},
   "outputs": [],
   "source": [
    "df.reset_index(drop=True,inplace=True)"
   ]
  },
  {
   "cell_type": "code",
   "execution_count": 113,
   "id": "2eeef6df-77b3-4d88-99bb-2e42161fe3db",
   "metadata": {},
   "outputs": [
    {
     "data": {
      "text/html": [
       "<div>\n",
       "<style scoped>\n",
       "    .dataframe tbody tr th:only-of-type {\n",
       "        vertical-align: middle;\n",
       "    }\n",
       "\n",
       "    .dataframe tbody tr th {\n",
       "        vertical-align: top;\n",
       "    }\n",
       "\n",
       "    .dataframe thead th {\n",
       "        text-align: right;\n",
       "    }\n",
       "</style>\n",
       "<table border=\"1\" class=\"dataframe\">\n",
       "  <thead>\n",
       "    <tr style=\"text-align: right;\">\n",
       "      <th></th>\n",
       "      <th>Molecule ChEMBL ID</th>\n",
       "      <th>Smiles</th>\n",
       "      <th>Standard Type</th>\n",
       "      <th>Standard Relation</th>\n",
       "      <th>Standard Value</th>\n",
       "      <th>Standard Units</th>\n",
       "    </tr>\n",
       "  </thead>\n",
       "  <tbody>\n",
       "    <tr>\n",
       "      <th>0</th>\n",
       "      <td>CHEMBL94</td>\n",
       "      <td>CNC(=O)Oc1ccc2c(c1)[C@]1(C)CCN(C)[C@@H]1N2C</td>\n",
       "      <td>IC50</td>\n",
       "      <td>'='</td>\n",
       "      <td>7.079458e+16</td>\n",
       "      <td>nM</td>\n",
       "    </tr>\n",
       "    <tr>\n",
       "      <th>1</th>\n",
       "      <td>CHEMBL11805</td>\n",
       "      <td>COc1ccccc1CN(C)CCCCCC(=O)N(C)CCCCCCCCN(C)C(=O)...</td>\n",
       "      <td>IC50</td>\n",
       "      <td>'='</td>\n",
       "      <td>5.888437e+15</td>\n",
       "      <td>nM</td>\n",
       "    </tr>\n",
       "    <tr>\n",
       "      <th>2</th>\n",
       "      <td>CHEMBL95</td>\n",
       "      <td>Nc1c2c(nc3ccccc13)CCCC2</td>\n",
       "      <td>IC50</td>\n",
       "      <td>'='</td>\n",
       "      <td>4.570882e+15</td>\n",
       "      <td>nM</td>\n",
       "    </tr>\n",
       "    <tr>\n",
       "      <th>3</th>\n",
       "      <td>CHEMBL132377</td>\n",
       "      <td>COc1ccccc1CNCCCCCC(=O)N(C)CCCCCCCCN(C)C(=O)CCC...</td>\n",
       "      <td>IC50</td>\n",
       "      <td>'='</td>\n",
       "      <td>3.235937e+15</td>\n",
       "      <td>nM</td>\n",
       "    </tr>\n",
       "    <tr>\n",
       "      <th>4</th>\n",
       "      <td>CHEMBL134488</td>\n",
       "      <td>COc1ccccc1CNCCCCCC(=O)NCCCCCCCCNC(=O)CCCCCNCc1...</td>\n",
       "      <td>IC50</td>\n",
       "      <td>'='</td>\n",
       "      <td>5.370318e+14</td>\n",
       "      <td>nM</td>\n",
       "    </tr>\n",
       "  </tbody>\n",
       "</table>\n",
       "</div>"
      ],
      "text/plain": [
       "  Molecule ChEMBL ID                                             Smiles  \\\n",
       "0           CHEMBL94        CNC(=O)Oc1ccc2c(c1)[C@]1(C)CCN(C)[C@@H]1N2C   \n",
       "1        CHEMBL11805  COc1ccccc1CN(C)CCCCCC(=O)N(C)CCCCCCCCN(C)C(=O)...   \n",
       "2           CHEMBL95                            Nc1c2c(nc3ccccc13)CCCC2   \n",
       "3       CHEMBL132377  COc1ccccc1CNCCCCCC(=O)N(C)CCCCCCCCN(C)C(=O)CCC...   \n",
       "4       CHEMBL134488  COc1ccccc1CNCCCCCC(=O)NCCCCCCCCNC(=O)CCCCCNCc1...   \n",
       "\n",
       "  Standard Type Standard Relation  Standard Value Standard Units  \n",
       "0          IC50               '='    7.079458e+16             nM  \n",
       "1          IC50               '='    5.888437e+15             nM  \n",
       "2          IC50               '='    4.570882e+15             nM  \n",
       "3          IC50               '='    3.235937e+15             nM  \n",
       "4          IC50               '='    5.370318e+14             nM  "
      ]
     },
     "execution_count": 113,
     "metadata": {},
     "output_type": "execute_result"
    }
   ],
   "source": [
    "df.head()"
   ]
  },
  {
   "cell_type": "code",
   "execution_count": 114,
   "id": "e65b3db6-e443-4e58-ae62-94f2f62a5592",
   "metadata": {},
   "outputs": [
    {
     "data": {
      "text/plain": [
       "(5005, 6)"
      ]
     },
     "execution_count": 114,
     "metadata": {},
     "output_type": "execute_result"
    }
   ],
   "source": [
    "df.shape"
   ]
  },
  {
   "cell_type": "markdown",
   "id": "2c6f80f7-5aef-4d40-8f53-c33f84c2f2b8",
   "metadata": {},
   "source": [
    "+ This results in total of 5005 compounds. "
   ]
  },
  {
   "cell_type": "code",
   "execution_count": 116,
   "id": "67459a06-3e98-4e48-bcf9-543012fcbedc",
   "metadata": {},
   "outputs": [
    {
     "name": "stdout",
     "output_type": "stream",
     "text": [
      "<class 'pandas.core.frame.DataFrame'>\n",
      "RangeIndex: 5005 entries, 0 to 5004\n",
      "Data columns (total 6 columns):\n",
      " #   Column              Non-Null Count  Dtype  \n",
      "---  ------              --------------  -----  \n",
      " 0   Molecule ChEMBL ID  5005 non-null   object \n",
      " 1   Smiles              5005 non-null   object \n",
      " 2   Standard Type       5005 non-null   object \n",
      " 3   Standard Relation   5005 non-null   object \n",
      " 4   Standard Value      5005 non-null   float64\n",
      " 5   Standard Units      5005 non-null   object \n",
      "dtypes: float64(1), object(5)\n",
      "memory usage: 234.7+ KB\n"
     ]
    }
   ],
   "source": [
    "df.info()"
   ]
  },
  {
   "cell_type": "markdown",
   "id": "1f2b4a9e-47c1-424a-8b10-3d1deb3e21f0",
   "metadata": {},
   "source": [
    "+ For classification problem we need to specificy actives and inactives. For this, we will use a 10 uM threshold. Molecules with lower values are labeled as actives (1) and above will be labeled inactive (0) "
   ]
  },
  {
   "cell_type": "code",
   "execution_count": 120,
   "id": "af87b646-cc08-460a-8111-6a7214d96180",
   "metadata": {},
   "outputs": [],
   "source": [
    "label = []\n",
    "\n",
    "for i in df[\"Standard Value\"]: \n",
    "    if i <= 10000:\n",
    "        label.append(1)\n",
    "    else:\n",
    "        label.append(0)"
   ]
  },
  {
   "cell_type": "code",
   "execution_count": 125,
   "id": "352abd3e-36de-433f-b02e-1168badbcc8e",
   "metadata": {},
   "outputs": [],
   "source": [
    "df[\"label\"] = label"
   ]
  },
  {
   "cell_type": "code",
   "execution_count": 126,
   "id": "728bcc38-fff8-44c6-8146-1d0969613350",
   "metadata": {},
   "outputs": [
    {
     "data": {
      "text/html": [
       "<div>\n",
       "<style scoped>\n",
       "    .dataframe tbody tr th:only-of-type {\n",
       "        vertical-align: middle;\n",
       "    }\n",
       "\n",
       "    .dataframe tbody tr th {\n",
       "        vertical-align: top;\n",
       "    }\n",
       "\n",
       "    .dataframe thead th {\n",
       "        text-align: right;\n",
       "    }\n",
       "</style>\n",
       "<table border=\"1\" class=\"dataframe\">\n",
       "  <thead>\n",
       "    <tr style=\"text-align: right;\">\n",
       "      <th></th>\n",
       "      <th>Molecule ChEMBL ID</th>\n",
       "      <th>Smiles</th>\n",
       "      <th>Standard Type</th>\n",
       "      <th>Standard Relation</th>\n",
       "      <th>Standard Value</th>\n",
       "      <th>Standard Units</th>\n",
       "      <th>label</th>\n",
       "    </tr>\n",
       "  </thead>\n",
       "  <tbody>\n",
       "    <tr>\n",
       "      <th>0</th>\n",
       "      <td>CHEMBL94</td>\n",
       "      <td>CNC(=O)Oc1ccc2c(c1)[C@]1(C)CCN(C)[C@@H]1N2C</td>\n",
       "      <td>IC50</td>\n",
       "      <td>'='</td>\n",
       "      <td>7.079458e+16</td>\n",
       "      <td>nM</td>\n",
       "      <td>0</td>\n",
       "    </tr>\n",
       "    <tr>\n",
       "      <th>1</th>\n",
       "      <td>CHEMBL11805</td>\n",
       "      <td>COc1ccccc1CN(C)CCCCCC(=O)N(C)CCCCCCCCN(C)C(=O)...</td>\n",
       "      <td>IC50</td>\n",
       "      <td>'='</td>\n",
       "      <td>5.888437e+15</td>\n",
       "      <td>nM</td>\n",
       "      <td>0</td>\n",
       "    </tr>\n",
       "    <tr>\n",
       "      <th>2</th>\n",
       "      <td>CHEMBL95</td>\n",
       "      <td>Nc1c2c(nc3ccccc13)CCCC2</td>\n",
       "      <td>IC50</td>\n",
       "      <td>'='</td>\n",
       "      <td>4.570882e+15</td>\n",
       "      <td>nM</td>\n",
       "      <td>0</td>\n",
       "    </tr>\n",
       "    <tr>\n",
       "      <th>3</th>\n",
       "      <td>CHEMBL132377</td>\n",
       "      <td>COc1ccccc1CNCCCCCC(=O)N(C)CCCCCCCCN(C)C(=O)CCC...</td>\n",
       "      <td>IC50</td>\n",
       "      <td>'='</td>\n",
       "      <td>3.235937e+15</td>\n",
       "      <td>nM</td>\n",
       "      <td>0</td>\n",
       "    </tr>\n",
       "    <tr>\n",
       "      <th>4</th>\n",
       "      <td>CHEMBL134488</td>\n",
       "      <td>COc1ccccc1CNCCCCCC(=O)NCCCCCCCCNC(=O)CCCCCNCc1...</td>\n",
       "      <td>IC50</td>\n",
       "      <td>'='</td>\n",
       "      <td>5.370318e+14</td>\n",
       "      <td>nM</td>\n",
       "      <td>0</td>\n",
       "    </tr>\n",
       "  </tbody>\n",
       "</table>\n",
       "</div>"
      ],
      "text/plain": [
       "  Molecule ChEMBL ID                                             Smiles  \\\n",
       "0           CHEMBL94        CNC(=O)Oc1ccc2c(c1)[C@]1(C)CCN(C)[C@@H]1N2C   \n",
       "1        CHEMBL11805  COc1ccccc1CN(C)CCCCCC(=O)N(C)CCCCCCCCN(C)C(=O)...   \n",
       "2           CHEMBL95                            Nc1c2c(nc3ccccc13)CCCC2   \n",
       "3       CHEMBL132377  COc1ccccc1CNCCCCCC(=O)N(C)CCCCCCCCN(C)C(=O)CCC...   \n",
       "4       CHEMBL134488  COc1ccccc1CNCCCCCC(=O)NCCCCCCCCNC(=O)CCCCCNCc1...   \n",
       "\n",
       "  Standard Type Standard Relation  Standard Value Standard Units  label  \n",
       "0          IC50               '='    7.079458e+16             nM      0  \n",
       "1          IC50               '='    5.888437e+15             nM      0  \n",
       "2          IC50               '='    4.570882e+15             nM      0  \n",
       "3          IC50               '='    3.235937e+15             nM      0  \n",
       "4          IC50               '='    5.370318e+14             nM      0  "
      ]
     },
     "execution_count": 126,
     "metadata": {},
     "output_type": "execute_result"
    }
   ],
   "source": [
    "df.head()"
   ]
  },
  {
   "cell_type": "code",
   "execution_count": 129,
   "id": "738ae0a7-17e2-40f6-aa27-d0df9d9e45d0",
   "metadata": {},
   "outputs": [
    {
     "data": {
      "text/plain": [
       "<AxesSubplot:xlabel='label', ylabel='count'>"
      ]
     },
     "execution_count": 129,
     "metadata": {},
     "output_type": "execute_result"
    },
    {
     "data": {
      "image/png": "[encoded data removed]",
      "text/plain": [
       "<Figure size 432x288 with 1 Axes>"
      ]
     },
     "metadata": {
      "needs_background": "light"
     },
     "output_type": "display_data"
    }
   ],
   "source": [
    "sns.countplot(x=df[\"label\"],)"
   ]
  },
  {
   "cell_type": "code",
   "execution_count": 130,
   "id": "a08cce62-fdbb-4d39-807e-f15b9a6f5ebe",
   "metadata": {},
   "outputs": [
    {
     "data": {
      "text/plain": [
       "1    3695\n",
       "0    1310\n",
       "Name: label, dtype: int64"
      ]
     },
     "execution_count": 130,
     "metadata": {},
     "output_type": "execute_result"
    }
   ],
   "source": [
    "df[\"label\"].value_counts()"
   ]
  },
  {
   "cell_type": "markdown",
   "id": "e6d4702c-1489-4dd9-848e-15d0237a614c",
   "metadata": {},
   "source": [
    "+ This might represent a case of ***imbalanced dataset***. We will come to this later. "
   ]
  },
  {
   "cell_type": "code",
   "execution_count": 145,
   "id": "aa4e1385-aec5-4aff-b48b-fe23261da0ab",
   "metadata": {},
   "outputs": [
    {
     "name": "stderr",
     "output_type": "stream",
     "text": [
      "/Users/sherifelsabbagh/opt/anaconda3/envs/my-rdkit-env/lib/python3.9/site-packages/seaborn/distributions.py:2619: FutureWarning: `distplot` is a deprecated function and will be removed in a future version. Please adapt your code to use either `displot` (a figure-level function with similar flexibility) or `histplot` (an axes-level function for histograms).\n",
      "  warnings.warn(msg, FutureWarning)\n"
     ]
    },
    {
     "data": {
      "text/plain": [
       "<AxesSubplot:xlabel='Standard Value', ylabel='Density'>"
      ]
     },
     "execution_count": 145,
     "metadata": {},
     "output_type": "execute_result"
    },
    {
     "data": {
      "image/png": "[encoded data removed]",
      "text/plain": [
       "<Figure size 720x360 with 1 Axes>"
      ]
     },
     "metadata": {
      "needs_background": "light"
     },
     "output_type": "display_data"
    }
   ],
   "source": [
    "plt.figure(figsize=(10,5))\n",
    "sns.distplot(df[\"Standard Value\"])"
   ]
  },
  {
   "cell_type": "markdown",
   "id": "d35d7e10-aac4-4157-bf9c-1a263594168a",
   "metadata": {},
   "source": [
    "+ Molecules show a highly variable IC50. To be able to compare easily, we will calculate pIC50 values instead."
   ]
  },
  {
   "cell_type": "code",
   "execution_count": 146,
   "id": "2903ff90-bb30-4d97-a131-cd6745623bbe",
   "metadata": {},
   "outputs": [],
   "source": [
    "import math"
   ]
  },
  {
   "cell_type": "code",
   "execution_count": 147,
   "id": "72337e5b-0828-461a-be84-becadae20341",
   "metadata": {},
   "outputs": [
    {
     "ename": "ValueError",
     "evalue": "math domain error",
     "output_type": "error",
     "traceback": [
      "\u001b[0;31m---------------------------------------------------------------------------\u001b[0m",
      "\u001b[0;31mValueError\u001b[0m                                Traceback (most recent call last)",
      "\u001b[0;32m/var/folders/ng/whnp3t611lq2k8dzf4hzhtnw0000gn/T/ipykernel_4990/1761143420.py\u001b[0m in \u001b[0;36m<module>\u001b[0;34m\u001b[0m\n\u001b[0;32m----> 1\u001b[0;31m \u001b[0mdf\u001b[0m\u001b[0;34m[\u001b[0m\u001b[0;34m\"pIC50\"\u001b[0m\u001b[0;34m]\u001b[0m \u001b[0;34m=\u001b[0m \u001b[0;34m[\u001b[0m\u001b[0;36m9\u001b[0m \u001b[0;34m-\u001b[0m \u001b[0mmath\u001b[0m\u001b[0;34m.\u001b[0m\u001b[0mlog10\u001b[0m\u001b[0;34m(\u001b[0m\u001b[0mx\u001b[0m\u001b[0;34m)\u001b[0m \u001b[0;32mfor\u001b[0m \u001b[0mx\u001b[0m \u001b[0;32min\u001b[0m \u001b[0mdf\u001b[0m\u001b[0;34m[\u001b[0m\u001b[0;34m\"Standard Value\"\u001b[0m\u001b[0;34m]\u001b[0m\u001b[0;34m]\u001b[0m\u001b[0;34m\u001b[0m\u001b[0;34m\u001b[0m\u001b[0m\n\u001b[0m",
      "\u001b[0;32m/var/folders/ng/whnp3t611lq2k8dzf4hzhtnw0000gn/T/ipykernel_4990/1761143420.py\u001b[0m in \u001b[0;36m<listcomp>\u001b[0;34m(.0)\u001b[0m\n\u001b[0;32m----> 1\u001b[0;31m \u001b[0mdf\u001b[0m\u001b[0;34m[\u001b[0m\u001b[0;34m\"pIC50\"\u001b[0m\u001b[0;34m]\u001b[0m \u001b[0;34m=\u001b[0m \u001b[0;34m[\u001b[0m\u001b[0;36m9\u001b[0m \u001b[0;34m-\u001b[0m \u001b[0mmath\u001b[0m\u001b[0;34m.\u001b[0m\u001b[0mlog10\u001b[0m\u001b[0;34m(\u001b[0m\u001b[0mx\u001b[0m\u001b[0;34m)\u001b[0m \u001b[0;32mfor\u001b[0m \u001b[0mx\u001b[0m \u001b[0;32min\u001b[0m \u001b[0mdf\u001b[0m\u001b[0;34m[\u001b[0m\u001b[0;34m\"Standard Value\"\u001b[0m\u001b[0;34m]\u001b[0m\u001b[0;34m]\u001b[0m\u001b[0;34m\u001b[0m\u001b[0;34m\u001b[0m\u001b[0m\n\u001b[0m",
      "\u001b[0;31mValueError\u001b[0m: math domain error"
     ]
    }
   ],
   "source": [
    "df[\"pIC50\"] = [9 - math.log10(x) for x in df[\"Standard Value\"]]"
   ]
  },
  {
   "cell_type": "markdown",
   "id": "23530c0a-6ec3-40b5-96e6-d0024a0a7c2d",
   "metadata": {},
   "source": [
    "+ This issue is raised because there may be zero values which cannot be converted. "
   ]
  },
  {
   "cell_type": "code",
   "execution_count": 148,
   "id": "875ef998-03fa-4471-af53-683202fbf7fd",
   "metadata": {},
   "outputs": [
    {
     "data": {
      "text/html": [
       "<div>\n",
       "<style scoped>\n",
       "    .dataframe tbody tr th:only-of-type {\n",
       "        vertical-align: middle;\n",
       "    }\n",
       "\n",
       "    .dataframe tbody tr th {\n",
       "        vertical-align: top;\n",
       "    }\n",
       "\n",
       "    .dataframe thead th {\n",
       "        text-align: right;\n",
       "    }\n",
       "</style>\n",
       "<table border=\"1\" class=\"dataframe\">\n",
       "  <thead>\n",
       "    <tr style=\"text-align: right;\">\n",
       "      <th></th>\n",
       "      <th>Molecule ChEMBL ID</th>\n",
       "      <th>Smiles</th>\n",
       "      <th>Standard Type</th>\n",
       "      <th>Standard Relation</th>\n",
       "      <th>Standard Value</th>\n",
       "      <th>Standard Units</th>\n",
       "      <th>label</th>\n",
       "    </tr>\n",
       "  </thead>\n",
       "  <tbody>\n",
       "    <tr>\n",
       "      <th>5004</th>\n",
       "      <td>CHEMBL4780352</td>\n",
       "      <td>COc1cc2c(cc1OC)C(=O)/C(=C/c1ccc(OCCCCN[N+]3(C)...</td>\n",
       "      <td>IC50</td>\n",
       "      <td>'='</td>\n",
       "      <td>0.0</td>\n",
       "      <td>nM</td>\n",
       "      <td>1</td>\n",
       "    </tr>\n",
       "  </tbody>\n",
       "</table>\n",
       "</div>"
      ],
      "text/plain": [
       "     Molecule ChEMBL ID                                             Smiles  \\\n",
       "5004      CHEMBL4780352  COc1cc2c(cc1OC)C(=O)/C(=C/c1ccc(OCCCCN[N+]3(C)...   \n",
       "\n",
       "     Standard Type Standard Relation  Standard Value Standard Units  label  \n",
       "5004          IC50               '='             0.0             nM      1  "
      ]
     },
     "execution_count": 148,
     "metadata": {},
     "output_type": "execute_result"
    }
   ],
   "source": [
    "df[df[\"Standard Value\"] == 0]"
   ]
  },
  {
   "cell_type": "code",
   "execution_count": 149,
   "id": "0fc5cdf9-e340-4bfb-a745-b9f26cfe28ff",
   "metadata": {},
   "outputs": [],
   "source": [
    "df_ = df[df[\"Standard Value\"] != 0]"
   ]
  },
  {
   "cell_type": "code",
   "execution_count": 150,
   "id": "d76f77be-4033-4bf4-bf56-edd799457c62",
   "metadata": {},
   "outputs": [
    {
     "data": {
      "text/html": [
       "<div>\n",
       "<style scoped>\n",
       "    .dataframe tbody tr th:only-of-type {\n",
       "        vertical-align: middle;\n",
       "    }\n",
       "\n",
       "    .dataframe tbody tr th {\n",
       "        vertical-align: top;\n",
       "    }\n",
       "\n",
       "    .dataframe thead th {\n",
       "        text-align: right;\n",
       "    }\n",
       "</style>\n",
       "<table border=\"1\" class=\"dataframe\">\n",
       "  <thead>\n",
       "    <tr style=\"text-align: right;\">\n",
       "      <th></th>\n",
       "      <th>Molecule ChEMBL ID</th>\n",
       "      <th>Smiles</th>\n",
       "      <th>Standard Type</th>\n",
       "      <th>Standard Relation</th>\n",
       "      <th>Standard Value</th>\n",
       "      <th>Standard Units</th>\n",
       "      <th>label</th>\n",
       "    </tr>\n",
       "  </thead>\n",
       "  <tbody>\n",
       "    <tr>\n",
       "      <th>0</th>\n",
       "      <td>CHEMBL94</td>\n",
       "      <td>CNC(=O)Oc1ccc2c(c1)[C@]1(C)CCN(C)[C@@H]1N2C</td>\n",
       "      <td>IC50</td>\n",
       "      <td>'='</td>\n",
       "      <td>7.079458e+16</td>\n",
       "      <td>nM</td>\n",
       "      <td>0</td>\n",
       "    </tr>\n",
       "    <tr>\n",
       "      <th>1</th>\n",
       "      <td>CHEMBL11805</td>\n",
       "      <td>COc1ccccc1CN(C)CCCCCC(=O)N(C)CCCCCCCCN(C)C(=O)...</td>\n",
       "      <td>IC50</td>\n",
       "      <td>'='</td>\n",
       "      <td>5.888437e+15</td>\n",
       "      <td>nM</td>\n",
       "      <td>0</td>\n",
       "    </tr>\n",
       "    <tr>\n",
       "      <th>2</th>\n",
       "      <td>CHEMBL95</td>\n",
       "      <td>Nc1c2c(nc3ccccc13)CCCC2</td>\n",
       "      <td>IC50</td>\n",
       "      <td>'='</td>\n",
       "      <td>4.570882e+15</td>\n",
       "      <td>nM</td>\n",
       "      <td>0</td>\n",
       "    </tr>\n",
       "    <tr>\n",
       "      <th>3</th>\n",
       "      <td>CHEMBL132377</td>\n",
       "      <td>COc1ccccc1CNCCCCCC(=O)N(C)CCCCCCCCN(C)C(=O)CCC...</td>\n",
       "      <td>IC50</td>\n",
       "      <td>'='</td>\n",
       "      <td>3.235937e+15</td>\n",
       "      <td>nM</td>\n",
       "      <td>0</td>\n",
       "    </tr>\n",
       "    <tr>\n",
       "      <th>4</th>\n",
       "      <td>CHEMBL134488</td>\n",
       "      <td>COc1ccccc1CNCCCCCC(=O)NCCCCCCCCNC(=O)CCCCCNCc1...</td>\n",
       "      <td>IC50</td>\n",
       "      <td>'='</td>\n",
       "      <td>5.370318e+14</td>\n",
       "      <td>nM</td>\n",
       "      <td>0</td>\n",
       "    </tr>\n",
       "    <tr>\n",
       "      <th>...</th>\n",
       "      <td>...</td>\n",
       "      <td>...</td>\n",
       "      <td>...</td>\n",
       "      <td>...</td>\n",
       "      <td>...</td>\n",
       "      <td>...</td>\n",
       "      <td>...</td>\n",
       "    </tr>\n",
       "    <tr>\n",
       "      <th>4999</th>\n",
       "      <td>CHEMBL383663</td>\n",
       "      <td>O=C(CCCCCNc1c2c(nc3cc(Cl)ccc13)CCCC2)NCCc1c[nH...</td>\n",
       "      <td>IC50</td>\n",
       "      <td>'='</td>\n",
       "      <td>5.000000e-06</td>\n",
       "      <td>nM</td>\n",
       "      <td>1</td>\n",
       "    </tr>\n",
       "    <tr>\n",
       "      <th>5000</th>\n",
       "      <td>CHEMBL199861</td>\n",
       "      <td>O=C(CCCCCNc1c2c(nc3ccccc13)CCCC2)NCCc1c[nH]c2c...</td>\n",
       "      <td>IC50</td>\n",
       "      <td>'='</td>\n",
       "      <td>5.000000e-06</td>\n",
       "      <td>nM</td>\n",
       "      <td>1</td>\n",
       "    </tr>\n",
       "    <tr>\n",
       "      <th>5001</th>\n",
       "      <td>CHEMBL4443426</td>\n",
       "      <td>O=C(CCCCNc1c2c(nc3ccccc13)CCCC2)NCCc1c[nH]c2cc...</td>\n",
       "      <td>IC50</td>\n",
       "      <td>'='</td>\n",
       "      <td>5.000000e-06</td>\n",
       "      <td>nM</td>\n",
       "      <td>1</td>\n",
       "    </tr>\n",
       "    <tr>\n",
       "      <th>5002</th>\n",
       "      <td>CHEMBL4590945</td>\n",
       "      <td>O=C(CCCCCCCNc1c2c(nc3cc(Cl)cc(Cl)c13)CCCC2)NCC...</td>\n",
       "      <td>IC50</td>\n",
       "      <td>'='</td>\n",
       "      <td>5.000000e-06</td>\n",
       "      <td>nM</td>\n",
       "      <td>1</td>\n",
       "    </tr>\n",
       "    <tr>\n",
       "      <th>5003</th>\n",
       "      <td>CHEMBL4532770</td>\n",
       "      <td>COc1ccc2[nH]cc(CCNC(=O)CCCCCCCNc3c4c(nc5ccccc3...</td>\n",
       "      <td>IC50</td>\n",
       "      <td>'='</td>\n",
       "      <td>5.000000e-06</td>\n",
       "      <td>nM</td>\n",
       "      <td>1</td>\n",
       "    </tr>\n",
       "  </tbody>\n",
       "</table>\n",
       "<p>5004 rows × 7 columns</p>\n",
       "</div>"
      ],
      "text/plain": [
       "     Molecule ChEMBL ID                                             Smiles  \\\n",
       "0              CHEMBL94        CNC(=O)Oc1ccc2c(c1)[C@]1(C)CCN(C)[C@@H]1N2C   \n",
       "1           CHEMBL11805  COc1ccccc1CN(C)CCCCCC(=O)N(C)CCCCCCCCN(C)C(=O)...   \n",
       "2              CHEMBL95                            Nc1c2c(nc3ccccc13)CCCC2   \n",
       "3          CHEMBL132377  COc1ccccc1CNCCCCCC(=O)N(C)CCCCCCCCN(C)C(=O)CCC...   \n",
       "4          CHEMBL134488  COc1ccccc1CNCCCCCC(=O)NCCCCCCCCNC(=O)CCCCCNCc1...   \n",
       "...                 ...                                                ...   \n",
       "4999       CHEMBL383663  O=C(CCCCCNc1c2c(nc3cc(Cl)ccc13)CCCC2)NCCc1c[nH...   \n",
       "5000       CHEMBL199861  O=C(CCCCCNc1c2c(nc3ccccc13)CCCC2)NCCc1c[nH]c2c...   \n",
       "5001      CHEMBL4443426  O=C(CCCCNc1c2c(nc3ccccc13)CCCC2)NCCc1c[nH]c2cc...   \n",
       "5002      CHEMBL4590945  O=C(CCCCCCCNc1c2c(nc3cc(Cl)cc(Cl)c13)CCCC2)NCC...   \n",
       "5003      CHEMBL4532770  COc1ccc2[nH]cc(CCNC(=O)CCCCCCCNc3c4c(nc5ccccc3...   \n",
       "\n",
       "     Standard Type Standard Relation  Standard Value Standard Units  label  \n",
       "0             IC50               '='    7.079458e+16             nM      0  \n",
       "1             IC50               '='    5.888437e+15             nM      0  \n",
       "2             IC50               '='    4.570882e+15             nM      0  \n",
       "3             IC50               '='    3.235937e+15             nM      0  \n",
       "4             IC50               '='    5.370318e+14             nM      0  \n",
       "...            ...               ...             ...            ...    ...  \n",
       "4999          IC50               '='    5.000000e-06             nM      1  \n",
       "5000          IC50               '='    5.000000e-06             nM      1  \n",
       "5001          IC50               '='    5.000000e-06             nM      1  \n",
       "5002          IC50               '='    5.000000e-06             nM      1  \n",
       "5003          IC50               '='    5.000000e-06             nM      1  \n",
       "\n",
       "[5004 rows x 7 columns]"
      ]
     },
     "execution_count": 150,
     "metadata": {},
     "output_type": "execute_result"
    }
   ],
   "source": [
    "df_"
   ]
  },
  {
   "cell_type": "code",
   "execution_count": 151,
   "id": "79262726-dad3-4f39-a5d7-e1001faa35f2",
   "metadata": {},
   "outputs": [],
   "source": [
    "df = df_"
   ]
  },
  {
   "cell_type": "code",
   "execution_count": 152,
   "id": "30cafb07-aeac-42c2-ab66-6716e38e9a97",
   "metadata": {},
   "outputs": [
    {
     "name": "stderr",
     "output_type": "stream",
     "text": [
      "/var/folders/ng/whnp3t611lq2k8dzf4hzhtnw0000gn/T/ipykernel_4990/1761143420.py:1: SettingWithCopyWarning: \n",
      "A value is trying to be set on a copy of a slice from a DataFrame.\n",
      "Try using .loc[row_indexer,col_indexer] = value instead\n",
      "\n",
      "See the caveats in the documentation: https://pandas.pydata.org/pandas-docs/stable/user_guide/indexing.html#returning-a-view-versus-a-copy\n",
      "  df[\"pIC50\"] = [9 - math.log10(x) for x in df[\"Standard Value\"]]\n"
     ]
    }
   ],
   "source": [
    "df[\"pIC50\"] = [9 - math.log10(x) for x in df[\"Standard Value\"]]"
   ]
  },
  {
   "cell_type": "code",
   "execution_count": 153,
   "id": "9cea88d0-5f0a-4786-bff8-baec19252de2",
   "metadata": {},
   "outputs": [
    {
     "data": {
      "text/html": [
       "<div>\n",
       "<style scoped>\n",
       "    .dataframe tbody tr th:only-of-type {\n",
       "        vertical-align: middle;\n",
       "    }\n",
       "\n",
       "    .dataframe tbody tr th {\n",
       "        vertical-align: top;\n",
       "    }\n",
       "\n",
       "    .dataframe thead th {\n",
       "        text-align: right;\n",
       "    }\n",
       "</style>\n",
       "<table border=\"1\" class=\"dataframe\">\n",
       "  <thead>\n",
       "    <tr style=\"text-align: right;\">\n",
       "      <th></th>\n",
       "      <th>Molecule ChEMBL ID</th>\n",
       "      <th>Smiles</th>\n",
       "      <th>Standard Type</th>\n",
       "      <th>Standard Relation</th>\n",
       "      <th>Standard Value</th>\n",
       "      <th>Standard Units</th>\n",
       "      <th>label</th>\n",
       "      <th>pIC50</th>\n",
       "    </tr>\n",
       "  </thead>\n",
       "  <tbody>\n",
       "    <tr>\n",
       "      <th>0</th>\n",
       "      <td>CHEMBL94</td>\n",
       "      <td>CNC(=O)Oc1ccc2c(c1)[C@]1(C)CCN(C)[C@@H]1N2C</td>\n",
       "      <td>IC50</td>\n",
       "      <td>'='</td>\n",
       "      <td>7.079458e+16</td>\n",
       "      <td>nM</td>\n",
       "      <td>0</td>\n",
       "      <td>-7.85</td>\n",
       "    </tr>\n",
       "    <tr>\n",
       "      <th>1</th>\n",
       "      <td>CHEMBL11805</td>\n",
       "      <td>COc1ccccc1CN(C)CCCCCC(=O)N(C)CCCCCCCCN(C)C(=O)...</td>\n",
       "      <td>IC50</td>\n",
       "      <td>'='</td>\n",
       "      <td>5.888437e+15</td>\n",
       "      <td>nM</td>\n",
       "      <td>0</td>\n",
       "      <td>-6.77</td>\n",
       "    </tr>\n",
       "    <tr>\n",
       "      <th>2</th>\n",
       "      <td>CHEMBL95</td>\n",
       "      <td>Nc1c2c(nc3ccccc13)CCCC2</td>\n",
       "      <td>IC50</td>\n",
       "      <td>'='</td>\n",
       "      <td>4.570882e+15</td>\n",
       "      <td>nM</td>\n",
       "      <td>0</td>\n",
       "      <td>-6.66</td>\n",
       "    </tr>\n",
       "    <tr>\n",
       "      <th>3</th>\n",
       "      <td>CHEMBL132377</td>\n",
       "      <td>COc1ccccc1CNCCCCCC(=O)N(C)CCCCCCCCN(C)C(=O)CCC...</td>\n",
       "      <td>IC50</td>\n",
       "      <td>'='</td>\n",
       "      <td>3.235937e+15</td>\n",
       "      <td>nM</td>\n",
       "      <td>0</td>\n",
       "      <td>-6.51</td>\n",
       "    </tr>\n",
       "    <tr>\n",
       "      <th>4</th>\n",
       "      <td>CHEMBL134488</td>\n",
       "      <td>COc1ccccc1CNCCCCCC(=O)NCCCCCCCCNC(=O)CCCCCNCc1...</td>\n",
       "      <td>IC50</td>\n",
       "      <td>'='</td>\n",
       "      <td>5.370318e+14</td>\n",
       "      <td>nM</td>\n",
       "      <td>0</td>\n",
       "      <td>-5.73</td>\n",
       "    </tr>\n",
       "  </tbody>\n",
       "</table>\n",
       "</div>"
      ],
      "text/plain": [
       "  Molecule ChEMBL ID                                             Smiles  \\\n",
       "0           CHEMBL94        CNC(=O)Oc1ccc2c(c1)[C@]1(C)CCN(C)[C@@H]1N2C   \n",
       "1        CHEMBL11805  COc1ccccc1CN(C)CCCCCC(=O)N(C)CCCCCCCCN(C)C(=O)...   \n",
       "2           CHEMBL95                            Nc1c2c(nc3ccccc13)CCCC2   \n",
       "3       CHEMBL132377  COc1ccccc1CNCCCCCC(=O)N(C)CCCCCCCCN(C)C(=O)CCC...   \n",
       "4       CHEMBL134488  COc1ccccc1CNCCCCCC(=O)NCCCCCCCCNC(=O)CCCCCNCc1...   \n",
       "\n",
       "  Standard Type Standard Relation  Standard Value Standard Units  label  pIC50  \n",
       "0          IC50               '='    7.079458e+16             nM      0  -7.85  \n",
       "1          IC50               '='    5.888437e+15             nM      0  -6.77  \n",
       "2          IC50               '='    4.570882e+15             nM      0  -6.66  \n",
       "3          IC50               '='    3.235937e+15             nM      0  -6.51  \n",
       "4          IC50               '='    5.370318e+14             nM      0  -5.73  "
      ]
     },
     "execution_count": 153,
     "metadata": {},
     "output_type": "execute_result"
    }
   ],
   "source": [
    "df.head()"
   ]
  },
  {
   "cell_type": "code",
   "execution_count": 158,
   "id": "6b5eb341-816b-4a0c-ba40-d486fe475f0e",
   "metadata": {},
   "outputs": [
    {
     "name": "stderr",
     "output_type": "stream",
     "text": [
      "/Users/sherifelsabbagh/opt/anaconda3/envs/my-rdkit-env/lib/python3.9/site-packages/seaborn/distributions.py:2619: FutureWarning: `distplot` is a deprecated function and will be removed in a future version. Please adapt your code to use either `displot` (a figure-level function with similar flexibility) or `histplot` (an axes-level function for histograms).\n",
      "  warnings.warn(msg, FutureWarning)\n"
     ]
    },
    {
     "data": {
      "text/plain": [
       "<AxesSubplot:xlabel='pIC50', ylabel='Density'>"
      ]
     },
     "execution_count": 158,
     "metadata": {},
     "output_type": "execute_result"
    },
    {
     "data": {
      "image/png": "[encoded data removed]",
      "text/plain": [
       "<Figure size 432x288 with 1 Axes>"
      ]
     },
     "metadata": {
      "needs_background": "light"
     },
     "output_type": "display_data"
    }
   ],
   "source": [
    "sns.distplot(df[\"pIC50\"])"
   ]
  },
  {
   "cell_type": "code",
   "execution_count": 159,
   "id": "e0c77bd5-738e-4dfb-b2a3-fbc6f1c0fbea",
   "metadata": {},
   "outputs": [],
   "source": [
    "df.to_csv(\"dataset.csv\",sep=\"\\t\",index=None)"
   ]
  },
  {
   "cell_type": "code",
   "execution_count": null,
   "id": "242cadd6-d52d-4371-a020-3fdab509f301",
   "metadata": {},
   "outputs": [],
   "source": []
  }
 ],
 "metadata": {
  "kernelspec": {
   "display_name": "Python 3 (ipykernel)",
   "language": "python",
   "name": "python3"
  },
  "language_info": {
   "codemirror_mode": {
    "name": "ipython",
    "version": 3
   },
   "file_extension": ".py",
   "mimetype": "text/x-python",
   "name": "python",
   "nbconvert_exporter": "python",
   "pygments_lexer": "ipython3",
   "version": "3.9.6"
  }
 },
 "nbformat": 4,
 "nbformat_minor": 5
}
